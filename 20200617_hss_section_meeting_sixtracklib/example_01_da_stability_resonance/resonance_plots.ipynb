{
 "cells": [
  {
   "cell_type": "markdown",
   "metadata": {},
   "source": [
    "### Are we in SWAN?"
   ]
  },
  {
   "cell_type": "code",
   "execution_count": 1,
   "metadata": {},
   "outputs": [
    {
     "name": "stdout",
     "output_type": "stream",
     "text": [
      "[Errno 2] No such file or directory: '/eos/project/d/da-and-diffusion-studies/DA_Studies/Simulations/Models/da_sixtrack/for_martin'\n",
      "/home/martin/owncloud/work/cern/presentations/20200619_be_seminar_sixtracklib/carlo_emilio\n"
     ]
    }
   ],
   "source": [
    "# Working in the right path\n",
    "%cd /eos/project/d/da-and-diffusion-studies/DA_Studies/Simulations/Models/da_sixtrack/for_martin"
   ]
  },
  {
   "cell_type": "code",
   "execution_count": null,
   "metadata": {},
   "outputs": [],
   "source": [
    "# Install the libraries\n",
    "import sys\n",
    "!{sys.executable} -m pip install --user sixtrackwrap\n",
    "!export PYTHONPATH=$CERNBOX_HOME/.local/lib/python3.7/site-packages:$PYTHONPATH"
   ]
  },
  {
   "cell_type": "code",
   "execution_count": 1,
   "metadata": {},
   "outputs": [],
   "source": [
    "# For this \"presentation\" only!\n",
    "import warnings\n",
    "warnings.filterwarnings('ignore')"
   ]
  },
  {
   "cell_type": "markdown",
   "metadata": {},
   "source": [
    "# Taking advantage of the step-by-step tracking"
   ]
  },
  {
   "cell_type": "markdown",
   "metadata": {},
   "source": [
    "SixTrackLib allows the creation of track jobs properly allocated on the GPU device. With these jobs, we can efficiently gather the characteristics of every particle turn after turn efficiently without loosing the GPU parallel capabilites, as the data can be gathered from the GPU directly with an optimized memory access.\n",
    "\n",
    "Thanks to that, we were able to implement some first full-track analysis of particle transversal dynamics, for inspecting the presence of resonances for specific initial conditions.\n",
    "\n",
    "In this notebook, we show just the most \"colorful\" plots we have made in our preliminary analysis.\n",
    "\n",
    "## Backend setup and libraries"
   ]
  },
  {
   "cell_type": "code",
   "execution_count": 2,
   "metadata": {},
   "outputs": [],
   "source": [
    "%matplotlib widget"
   ]
  },
  {
   "cell_type": "code",
   "execution_count": 3,
   "metadata": {},
   "outputs": [],
   "source": [
    "# Base libraries\n",
    "import math\n",
    "import numpy as np\n",
    "import scipy.integrate as integrate\n",
    "from scipy.special import erf\n",
    "import pickle\n",
    "import itertools\n",
    "from scipy.optimize import curve_fit\n",
    "\n",
    "from numba import njit, prange\n",
    "\n",
    "# Personal libraries\n",
    "#import sixtrackwrap_light as sx\n",
    "import sixtrackwrap as sx\n",
    "\n",
    "from tqdm.notebook import tqdm\n",
    "import time\n",
    "import matplotlib.pyplot as plt\n",
    "import ipywidgets as widgets\n",
    "from IPython.display import display\n",
    "import matplotlib\n",
    "import matplotlib.ticker as ticker\n",
    "from math import gcd\n",
    "\n",
    "from scipy.special import lambertw"
   ]
  },
  {
   "cell_type": "markdown",
   "metadata": {},
   "source": [
    "## Some step-by-step trackings"
   ]
  },
  {
   "cell_type": "markdown",
   "metadata": {},
   "source": [
    "Here we have performed in a separate instance a radial scan of various angular coordinates. For each angle, given a value $N_\\text{max}$ of turns, we look for the last stable particle after $N_\\text{max}$ turns.\n",
    "\n",
    "Once we have found it, we re-track the particle while saving its whole transversal path. We then analyze its motion characteristics in the 4D space considering normalized polar coordinates $(r, \\alpha, \\theta_1, \\theta_2)$.\n",
    "\n",
    "In this specific plot, we analyze how the particle \"explores\" the $(\\theta_1, \\theta_2)$ space by considering a 2D binning of the $N_\\text{max}$ steps the particle takes before becoming lost.\n",
    "\n",
    "In the left plot, we show for each bin the average radial distance the particle has for that specific $(\\theta_1, \\theta_2)$ interval. The white bins indicates a NaN value, meaning that the particle has not visited that specific interval.\n",
    "\n",
    "In the right plot, we show for each bin the number of times the particle has visited that specific $(\\theta_1, \\theta_2)$ interval.\n",
    "\n",
    "With the slider, you can select the $\\alpha_0$ angle as starting considition. In this setup, both $\\theta$ angles are set to 0 as starting condition."
   ]
  },
  {
   "cell_type": "code",
   "execution_count": 4,
   "metadata": {},
   "outputs": [],
   "source": [
    "with open(\"data/matrices_2.pkl\", 'rb') as f:\n",
    "    count_matrix, avg_matrix = pickle.load(f)\n",
    "samples = 2049\n",
    "n_subdivisions = 128\n",
    "max_turns = 10000"
   ]
  },
  {
   "cell_type": "code",
   "execution_count": 5,
   "metadata": {},
   "outputs": [],
   "source": [
    "count_total, average_total, result_total, validity_total = sx.recursive_accumulation(count_matrix, avg_matrix)\n",
    "alpha_preliminary_values = np.linspace(-1.0, 1.0, samples)\n",
    "alpha_values = np.arccos(alpha_preliminary_values) / 2"
   ]
  },
  {
   "cell_type": "code",
   "execution_count": 6,
   "metadata": {},
   "outputs": [
    {
     "data": {
      "application/vnd.jupyter.widget-view+json": {
       "model_id": "7c724820068245048f6baaaddec55539",
       "version_major": 2,
       "version_minor": 0
      },
      "text/plain": [
       "Canvas(toolbar=Toolbar(toolitems=[('Home', 'Reset original view', 'home', 'home'), ('Back', 'Back to previous …"
      ]
     },
     "metadata": {},
     "output_type": "display_data"
    },
    {
     "data": {
      "application/vnd.jupyter.widget-view+json": {
       "model_id": "1d3cf637b06441b7b5399b9677cb4c27",
       "version_major": 2,
       "version_minor": 0
      },
      "text/plain": [
       "VBox(children=(Label(value='Sample index to visualize'), IntSlider(value=0, max=2048)))"
      ]
     },
     "metadata": {},
     "output_type": "display_data"
    },
    {
     "data": {
      "application/vnd.jupyter.widget-view+json": {
       "model_id": "e983f602ea914971910607c3c6e0c4f0",
       "version_major": 2,
       "version_minor": 0
      },
      "text/plain": [
       "Output()"
      ]
     },
     "metadata": {},
     "output_type": "display_data"
    }
   ],
   "source": [
    "fig2 = plt.figure()\n",
    "\n",
    "def update_scheme(j):\n",
    "    fig2.clear()\n",
    "    axs2 = fig2.subplots(1, 2)\n",
    "    i = 0\n",
    "    j = len(count_total[0]) - 1 - j\n",
    "    coso = axs2[0].imshow(average_total[i][j], origin=\"lower\", extent=(0, np.pi*2, 0, np.pi*2))\n",
    "    axs2[0].set_title(\"Average radius measured\\n$\\\\alpha = {:.4}\\pi$\".format(alpha_values[j]/np.pi))\n",
    "    axs2[0].set_xlabel(\"$\\\\theta_1$\")\n",
    "    axs2[0].set_ylabel(\"$\\\\theta_2$\")\n",
    "    cb = fig2.colorbar(coso, ax=axs2[0])\n",
    "    #cb.ax.plot([0, 100], [DA_2[(samples, 'refined', 'mc')][0]]*2, 'w')\n",
    "\n",
    "    axs2[0].xaxis.set_major_formatter(ticker.FuncFormatter(lambda x, pos: str(int(x/np.pi)) + \"$\\\\pi$\"))\n",
    "    axs2[0].xaxis.set_major_locator(ticker.MultipleLocator(base=np.pi))\n",
    "    axs2[0].yaxis.set_major_formatter(ticker.FuncFormatter(lambda x, pos: str(int(x/np.pi)) + \"$\\\\pi$\"))\n",
    "    axs2[0].yaxis.set_major_locator(ticker.MultipleLocator(base=np.pi))\n",
    "\n",
    "    coso = axs2[1].imshow(count_total[i][j], origin=\"lower\", extent=(0, np.pi*2, 0, np.pi*2), vmin=0)\n",
    "    axs2[1].set_title(\"Number of samples\\n$\\\\alpha = {:.4}\\pi$\".format(alpha_values[j]/np.pi))\n",
    "    axs2[1].set_xlabel(\"$\\\\theta_1$\")\n",
    "    axs2[1].set_ylabel(\"$\\\\theta_2$\")\n",
    "    fig2.colorbar(coso, ax=axs2[1])\n",
    "\n",
    "    axs2[1].xaxis.set_major_formatter(ticker.FuncFormatter(lambda x, pos: str(int(x/np.pi)) + \"$\\\\pi$\"))\n",
    "    axs2[1].xaxis.set_major_locator(ticker.MultipleLocator(base=np.pi))\n",
    "    axs2[1].yaxis.set_major_formatter(ticker.FuncFormatter(lambda x, pos: str(int(x/np.pi)) + \"$\\\\pi$\"))\n",
    "    axs2[1].yaxis.set_major_locator(ticker.MultipleLocator(base=np.pi))\n",
    "    \n",
    "    fig2.suptitle(\"2D binning $(128\\\\times 128)$ over the $(\\\\theta_1, \\\\theta_2)$ space of a particle tracked for 10000 turns.\")\n",
    "\n",
    "k=widgets.IntSlider(value=0, min=0, max=len(count_total[0]) - 1, step=1)\n",
    "ui2 = widgets.VBox([\n",
    "    widgets.Label(\"Sample index to visualize\"), k,\n",
    "])\n",
    "    \n",
    "out2 = widgets.interactive_output(\n",
    "    update_scheme,\n",
    "    {\"j\":k}\n",
    ")\n",
    "\n",
    "display(ui2, out2)"
   ]
  },
  {
   "cell_type": "markdown",
   "metadata": {},
   "source": [
    "As you can see from the plot above, different $\\alpha$ starting conditions implies very different behaviours for the particle transversal dynamics. And it's in our interest to inspect the charatcerstics of these resonances.\n",
    "\n",
    "A first qualitative measurement of these resonance behaviours is to evaluate the percentage of empty bins in the left plots above: more empty plots implies less uniform diffusion in the $(\\theta_1, \\theta_2)$ space and, therefore, stronger resonace effects.\n",
    "\n",
    "We plot this measure down here."
   ]
  },
  {
   "cell_type": "code",
   "execution_count": 7,
   "metadata": {},
   "outputs": [
    {
     "data": {
      "application/vnd.jupyter.widget-view+json": {
       "model_id": "7f9e0aea455d4234bfb8fe4d7a6f9f3f",
       "version_major": 2,
       "version_minor": 0
      },
      "text/plain": [
       "Canvas(toolbar=Toolbar(toolitems=[('Home', 'Reset original view', 'home', 'home'), ('Back', 'Back to previous …"
      ]
     },
     "metadata": {},
     "output_type": "display_data"
    },
    {
     "data": {
      "text/plain": [
       "(0, 1.5707963267948966)"
      ]
     },
     "execution_count": 7,
     "metadata": {},
     "output_type": "execute_result"
    }
   ],
   "source": [
    "count_total, average_total, result_total, validity_total = sx.recursive_accumulation(count_matrix, avg_matrix)\n",
    "alpha_preliminary_values = np.linspace(-1.0, 1.0, samples)\n",
    "alpha_values = np.arccos(alpha_preliminary_values) / 2\n",
    "\n",
    "nan_data = []\n",
    "\n",
    "for j in range(0, len(count_total[2])):\n",
    "    nan_data.append(np.count_nonzero(np.isnan(average_total[2][j])) / ((n_subdivisions / 4) ** 2))\n",
    "\n",
    "nan_data = np.asarray(nan_data)\n",
    "x = np.cos(alpha_values[::4]) * nan_data[::4]\n",
    "y = np.sin(alpha_values[::4]) * nan_data[::4]\n",
    "x = np.append(x, [0.0])\n",
    "y = np.append(y, [0.0])\n",
    "\n",
    "#plt.fill(x, y)\n",
    "fig, ax = plt.subplots(figsize=(16,9))\n",
    "ax.plot(alpha_values, nan_data, linewidth=0.2, c=\"C0\", alpha=0.5)\n",
    "ax.scatter(alpha_values, nan_data, s=0.75)\n",
    "ax.xaxis.set_major_formatter(ticker.FuncFormatter(lambda x, pos: \"{:2}\".format(x/np.pi) + \"$\\\\ \\\\pi$\"))\n",
    "ax.xaxis.set_major_locator(ticker.MultipleLocator(base=np.pi/8))\n",
    "ax.yaxis.set_major_formatter(ticker.FuncFormatter(lambda x, pos: \"{}\".format(int(x * 100)) + \"$\\\\%$\"))\n",
    "ax.yaxis.set_major_locator(ticker.MultipleLocator(base=0.2))\n",
    "ax.set_xlabel(\"$\\\\alpha$ angle\")\n",
    "ax.set_ylabel(\"Percentage of empty bins\")\n",
    "ax.set_title(\"Percentage of empty bins for different intial $\\\\alpha$ angles. $N$ bins $= ({}\\\\times{}) = {}$, $N$ turns $= {}$\\n(Higher percentage implies less `diffusion')\".format(n_subdivisions // 4, n_subdivisions // 4, (n_subdivisions // 4) ** 2, max_turns))\n",
    "ax.set_xlim(0, np.pi/2)"
   ]
  },
  {
   "cell_type": "markdown",
   "metadata": {},
   "source": [
    "These analysis are made possible by the fact that SixTrackLib makes the execution of single parallelized tracking steps extremely easy and well optimized."
   ]
  },
  {
   "cell_type": "code",
   "execution_count": null,
   "metadata": {},
   "outputs": [],
   "source": []
  }
 ],
 "metadata": {
  "kernelspec": {
   "display_name": "Python 3",
   "language": "python",
   "name": "python3"
  },
  "language_info": {
   "codemirror_mode": {
    "name": "ipython",
    "version": 3
   },
   "file_extension": ".py",
   "mimetype": "text/x-python",
   "name": "python",
   "nbconvert_exporter": "python",
   "pygments_lexer": "ipython3",
   "version": "3.7.7"
  }
 },
 "nbformat": 4,
 "nbformat_minor": 4
}
