{
 "cells": [
  {
   "cell_type": "code",
   "execution_count": 1,
   "metadata": {
    "slideshow": {
     "slide_type": "skip"
    }
   },
   "outputs": [],
   "source": [
    "import sixtracklib as st\n",
    "import numpy as np"
   ]
  },
  {
   "cell_type": "markdown",
   "metadata": {
    "slideshow": {
     "slide_type": "slide"
    }
   },
   "source": [
    "# Introduction To SixTrackLib Implementation And Design\n",
    "\n",
    "In this section, we cover the following topics:\n",
    "- Modelling the Particle State\n",
    "- Lattice And Beam Elements\n",
    "- Complementary and Required Externall Libraries &amp; Modules    \n",
    "    - pysixtrack\n",
    "    - sixtracktools\n",
    "    - CObjects Buffer\n",
    "- Logistics of Tracking: Tracking Modes, TrackJob\n",
    "    "
   ]
  },
  {
   "cell_type": "markdown",
   "metadata": {
    "slideshow": {
     "slide_type": "slide"
    }
   },
   "source": [
    "## Modeling the Particle State\n"
   ]
  },
  {
   "cell_type": "code",
   "execution_count": 25,
   "metadata": {
    "slideshow": {
     "slide_type": "fragment"
    }
   },
   "outputs": [],
   "source": [
    "p = st.Particles(num_particles=1, p0c=6.5e12, q0=1)"
   ]
  },
  {
   "cell_type": "code",
   "execution_count": 26,
   "metadata": {
    "slideshow": {
     "slide_type": "fragment"
    }
   },
   "outputs": [
    {
     "name": "stdout",
     "output_type": "stream",
     "text": [
      "Particle-State:\n",
      "Six main degrees of freedom: x     = [0.] m\r\n",
      "     \n",
      "                             y     = [0.] m\r\n",
      "\n",
      "                             zeta  = [0.] m\r\n",
      "\n",
      "                             px    = [0.] rad ( px = Px / P0 )\r\n",
      "\n",
      "                             py    = [0.] rad ( py = Py / P0 )\r\n",
      "\n",
      "                             delta = [0.]     ( δ  = ( P - P0 ) / P0 )\r\n",
      "\n",
      "\n"
     ]
    }
   ],
   "source": [
    "print( f\"\"\"Particle-State:\n",
    "Six main degrees of freedom: x     = {p.x} m\\r\\n     \n",
    "                             y     = {p.y} m\\r\\n\n",
    "                             zeta  = {p.zeta} m\\r\\n\n",
    "                             px    = {p.px} rad ( px = Px / P0 )\\r\\n\n",
    "                             py    = {p.py} rad ( py = Py / P0 )\\r\\n\n",
    "                             delta = {p.delta}     ( δ  = ( P - P0 ) / P0 )\\r\\n\n",
    "\"\"\")"
   ]
  },
  {
   "cell_type": "code",
   "execution_count": 29,
   "metadata": {
    "slideshow": {
     "slide_type": "subslide"
    }
   },
   "outputs": [
    {
     "name": "stdout",
     "output_type": "stream",
     "text": [
      "\n",
      "4 Logical coordinates: state       = [1] ( 1 == active, 0 == lost )\r\n",
      "\n",
      "                       at_element  = [0]\r\n",
      "\n",
      "                       at_turn     = [0]\r\n",
      "\n",
      "                       particle_id = [0]\r\n",
      "\n"
     ]
    }
   ],
   "source": [
    "print(f\"\"\"\n",
    "4 Logical coordinates: state       = {p.state} ( 1 == active, 0 == lost )\\r\\n\n",
    "                       at_element  = {p.at_element}\\r\\n\n",
    "                       at_turn     = {p.at_turn}\\r\\n\n",
    "                       particle_id = {p.particle_id}\\r\\n\"\"\")"
   ]
  },
  {
   "cell_type": "code",
   "execution_count": 30,
   "metadata": {
    "slideshow": {
     "slide_type": "subslide"
    }
   },
   "outputs": [
    {
     "name": "stdout",
     "output_type": "stream",
     "text": [
      "\n",
      "5 Attributes of the ref particle: q0     = [1.] x proton charge\r\n",
      "\n",
      "                                  mass0  = [9.38272081e+08] eV/c²\r\n",
      "\n",
      "                                  beta0  = [0.99999999] ( β0 = v0/c )\r\n",
      "\n",
      "                                  gamma0 = [6927.62813396] ( γ0 = 1 / √( 1 - β0²) )\r\n",
      "\n",
      "                                  p0c    = [6.5e+12] eV  ( p0c = P0 * c )\r\n",
      "\n",
      "\n"
     ]
    }
   ],
   "source": [
    "print(f\"\"\"\n",
    "5 Attributes of the ref particle: q0     = {p.q0} x proton charge\\r\\n\n",
    "                                  mass0  = {p.mass0} eV/c²\\r\\n\n",
    "                                  beta0  = {p.beta0} ( β0 = v0/c )\\r\\n\n",
    "                                  gamma0 = {p.gamma0} ( γ0 = 1 / √( 1 - β0²) )\\r\\n\n",
    "                                  p0c    = {p.p0c} eV  ( p0c = P0 * c )\\r\\n \n",
    "\"\"\")"
   ]
  },
  {
   "cell_type": "code",
   "execution_count": 31,
   "metadata": {
    "slideshow": {
     "slide_type": "subslide"
    }
   },
   "outputs": [
    {
     "name": "stdout",
     "output_type": "stream",
     "text": [
      "\n",
      "6 auxilliariy coordinates: s            = [0.] m   ( s ~ distance from begin of lattice )\r\n",
      "\n",
      "                           psigma       = [0.]     ( psigma = (E-E0)/(beta0*P0*c) )\r\n",
      "\n",
      "                           rpp          = [1.]     ( rpp = P0 / P )\r\n",
      "\n",
      "                           rvv          = [1.]     ( rvv = β / β0 = (v/c) / β0 )\r\n",
      "\n",
      "                           charge_ratio = [1.]     ( charge_ratio = q/q0 )\r\n",
      "\n",
      "                           chi          = [1.]     ( χ = ( q/q0 ) / ( m/mass0 ) )\r\n",
      "\n"
     ]
    }
   ],
   "source": [
    "print(f\"\"\"\n",
    "6 auxilliariy coordinates: s            = {p.s} m   ( s ~ distance from begin of lattice )\\r\\n\n",
    "                           psigma       = {p.psigma}     ( psigma = (E-E0)/(beta0*P0*c) )\\r\\n\n",
    "                           rpp          = {p.rpp}     ( rpp = P0 / P )\\r\\n\n",
    "                           rvv          = {p.rvv}     ( rvv = β / β0 = (v/c) / β0 )\\r\\n\n",
    "                           charge_ratio = {p.charge_ratio}     ( charge_ratio = q/q0 )\\r\\n\n",
    "                           chi          = {p.chi}     ( χ = ( q/q0 ) / ( m/mass0 ) )\\r\\n\"\"\")"
   ]
  },
  {
   "cell_type": "markdown",
   "metadata": {
    "slideshow": {
     "slide_type": "slide"
    }
   },
   "source": [
    "## Lattice &amp; Beam Elements\n",
    "\n",
    "There are several ways to get a lattice\n",
    "1. manually, element by element\n",
    "2. load from a binary dump\n",
    "3. import from <tt>pysixtrack</tt>\n",
    "4. import from <tt>MAD-X</tt> (via <tt>pysixtrack</tt>)\n",
    "5. import from <tt>SixTrack</tt> (via <tt>pysixtrack</tt>)"
   ]
  },
  {
   "cell_type": "markdown",
   "metadata": {
    "slideshow": {
     "slide_type": "slide"
    }
   },
   "source": [
    "### 1. Build Lattice Manually"
   ]
  },
  {
   "cell_type": "code",
   "execution_count": 7,
   "metadata": {
    "slideshow": {
     "slide_type": "fragment"
    }
   },
   "outputs": [
    {
     "data": {
      "text/plain": [
       "[<Drift at 128\n",
       "   length:0.0\n",
       " >,\n",
       " <Multipole at 136\n",
       "   order:1\n",
       "   length:0.0\n",
       "   hxl:0.0\n",
       "   hyl:0.0\n",
       "   bal:[0.   0.   0.01 0.  ]\n",
       " >]"
      ]
     },
     "execution_count": 7,
     "metadata": {},
     "output_type": "execute_result"
    }
   ],
   "source": [
    "# We can use a st.Elements() class to organize individual beam-elements into a lattice\n",
    "\n",
    "lattice = st.Elements()\n",
    "drift = lattice.Drift(lenth=0.2) # length in [m]\n",
    "quad  = lattice.Multipole( knl=[0.0, 0.01] ) # ksl ... skew multipole parameters\n",
    "\n",
    "lattice.get_elements()"
   ]
  },
  {
   "cell_type": "code",
   "execution_count": 8,
   "metadata": {
    "slideshow": {
     "slide_type": "fragment"
    }
   },
   "outputs": [],
   "source": [
    "# Dump the lattice to a binary file\n",
    "lattice.to_file( \"./demo_lattice.bin\" )\n",
    "del lattice # make sure we start from scratch"
   ]
  },
  {
   "cell_type": "markdown",
   "metadata": {
    "slideshow": {
     "slide_type": "slide"
    }
   },
   "source": [
    "### 2. Load From Binary Dump"
   ]
  },
  {
   "cell_type": "code",
   "execution_count": 9,
   "metadata": {
    "slideshow": {
     "slide_type": "fragment"
    }
   },
   "outputs": [
    {
     "data": {
      "text/plain": [
       "[<Drift at 128\n",
       "   length:0.0\n",
       " >,\n",
       " <Multipole at 136\n",
       "   order:1\n",
       "   length:0.0\n",
       "   hxl:0.0\n",
       "   hyl:0.0\n",
       "   bal:[0.   0.   0.01 0.  ]\n",
       " >]"
      ]
     },
     "execution_count": 9,
     "metadata": {},
     "output_type": "execute_result"
    }
   ],
   "source": [
    "lattice = st.Elements().fromfile( \"./demo_lattice.bin\" )\n",
    "\n",
    "lattice.get_elements()"
   ]
  },
  {
   "cell_type": "markdown",
   "metadata": {
    "slideshow": {
     "slide_type": "slide"
    }
   },
   "source": [
    "### 3. Import From PySixtrack \n",
    "\n",
    "Question: What is <tt>pysixtrack</tt> ?"
   ]
  },
  {
   "cell_type": "markdown",
   "metadata": {
    "slideshow": {
     "slide_type": "fragment"
    }
   },
   "source": [
    "- <tt>pysixtrack</tt> is a minimal &amp; straight-forward particle tracking implementation written purely in Python 3\n",
    "- <a href=\"https://github.com/SixTrack/pysixtrack\">https://github.com/SixTrack/pysixtrack</a>\n",
    "- Independent of <tt>SixTrackLib</tt>, easy to understand &amp; extend \n",
    "- \"Playground\", Area for prototyping, testing and debugging new physics"
   ]
  },
  {
   "cell_type": "code",
   "execution_count": 10,
   "metadata": {
    "slideshow": {
     "slide_type": "subslide"
    }
   },
   "outputs": [
    {
     "name": "stdout",
     "output_type": "stream",
     "text": [
      "[Drift(length=0.2), Multipole(knl=[0.0, 0.01], ksl=[0], hxl=0, hyl=0, length=0)]\n"
     ]
    }
   ],
   "source": [
    "import pysixtrack as py6tr\n",
    "\n",
    "# We can use any iterable object to store a lattice:\n",
    "seq = [ py6tr.elements.Drift(length=0.2), py6tr.elements.Multipole(knl=[0.0, 0.01]) ]\n",
    "\n",
    "print( seq )"
   ]
  },
  {
   "cell_type": "code",
   "execution_count": 11,
   "metadata": {
    "slideshow": {
     "slide_type": "fragment"
    }
   },
   "outputs": [
    {
     "name": "stdout",
     "output_type": "stream",
     "text": [
      "[<Drift at 128\n",
      "  length:0.2\n",
      ">, <Multipole at 136\n",
      "  order:1\n",
      "  length:0.0\n",
      "  hxl:0.0\n",
      "  hyl:0.0\n",
      "  bal:[0.   0.   0.01 0.  ]\n",
      ">]\n"
     ]
    }
   ],
   "source": [
    "# Use pysixtrack.Line object to store the sequence of beam-elements\n",
    "other_lattice = py6tr.Line( seq )\n",
    "    \n",
    "# ensure we start from scratch with lattice\n",
    "del lattice\n",
    "\n",
    "# import other_lattice as a SixTrackLib lattice:\n",
    "lattice = st.Elements().from_line( other_lattice )\n",
    "\n",
    "print( lattice.get_elements() )"
   ]
  },
  {
   "cell_type": "markdown",
   "metadata": {
    "slideshow": {
     "slide_type": "slide"
    }
   },
   "source": [
    "### 4. Import From <tt>MAD-X</tt> Using <tt>pysixtrack</tt> (&amp; <tt>cpymad</tt>)\n",
    "\n",
    "The idea is to keep <tt>SixTrackLib</tt> as minimal as possible.<br />\n",
    "&rightarrow; No I/O and Import/Export Helpers in <tt>SixTrackLib</tt>, use <tt>pysixtrack</tt> as an intermediate layer\n",
    "\n",
    "<b>Note:</b> For users of the C/C++ API of <tt>SixTrackLib</tt>, use binary dumps to import lattices and particle state from <tt>MAD-X</tt>, <tt>SixTrack</tt>, ...\n",
    "\n",
    "<b>Note:</b> Import from <tt>MAD-X</tt> requires the <tt>cpymad</tt> cython bindings:<br />\n",
    "<a href=\"https://github.com/hibtc/cpymad\">https://github.com/hibtc/cpymad</a>"
   ]
  },
  {
   "cell_type": "code",
   "execution_count": 12,
   "metadata": {
    "slideshow": {
     "slide_type": "subslide"
    }
   },
   "outputs": [
    {
     "name": "stdout",
     "output_type": "stream",
     "text": [
      "[<Drift at 128\n",
      "  length:0.2\n",
      ">, <Multipole at 136\n",
      "  order:1\n",
      "  length:0.0\n",
      "  hxl:0.0\n",
      "  hyl:0.0\n",
      "  bal:[0.   0.   0.01 0.  ]\n",
      ">]\n"
     ]
    }
   ],
   "source": [
    "# requires cpymad -> https://github.com/hibtc/cpymad\n",
    "from cpymad.madx import Madx\n",
    "import sixtracklib as st \n",
    "import pysixtrack as py6tr\n",
    "\n",
    "from scipy.constants import e, m_p, c\n",
    "import numpy as np \n",
    "\n",
    "# Note: pysixtrack / SixTrackLib and MAD-X use different default units for energies!\n",
    "p0c = 4.7e9 # p0c = P0 * c ; [p0c] = 1 eV\n",
    "Etot_in_GeV = np.sqrt( p0c * p0c + ( m_p / e ) ** 2 * c ** 4 ) * 1e-9 # [Etot] = 1 GeV\n",
    "\n",
    "mad = Madx(stdout=False)\n",
    "mad.call( file=\"./demo_lattice.madx\" )\n",
    "mad.command.beam(particle='proton', energy=str(Etot_in_GeV))\n",
    "mad.use(sequence=\"DEMO_LATTICE\")\n",
    "\n",
    "# Use the from_madx_sequence() method of pysixtrack's Line to import DEMO_LATTICE \n",
    "# Also, use the remove_zero_length_drifts() and merge_consequentive_drifts() \n",
    "# helpers to optimize the lattice for SixTrackLib's preferred way of torage :\n",
    "\n",
    "imported_lattice = py6tr.Line.from_madx_sequence( \n",
    "    mad.sequence.DEMO_LATTICE, ).remove_zero_length_drifts(\n",
    "    inplace=True).merge_consecutive_drifts(inplace=True)\n",
    "  \n",
    "# As before, use imported_lattice to build the SixTrackLib lattice\n",
    "# that we are actually interested in:\n",
    "lattice = st.Elements().from_line( imported_lattice )\n",
    "print( lattice.get_elements() )"
   ]
  },
  {
   "cell_type": "markdown",
   "metadata": {
    "slideshow": {
     "slide_type": "slide"
    }
   },
   "source": [
    "### 5. Import From <tt>SixTrack</tt> Using <tt>pysixtrack</tt> (&amp; <tt>sixtracktools</tt>)\n",
    "\n",
    "Similar approach, but this time we are importing a more sophisticated Lattice:\n",
    "\n",
    "<b>Note:</b> <tt>sixtracktools</tt> is a helper library which runs the <tt>SixTrack</tt> binary and interprets the output, allowing import data into <tt>pysixtrack</tt>\n",
    "\n",
    "<a href=\"https://github.com/SixTrack/sixtracktools\">https://github.com/SixTrack/sixtracktools</a>\n",
    "\n"
   ]
  },
  {
   "cell_type": "code",
   "execution_count": 13,
   "metadata": {
    "slideshow": {
     "slide_type": "fragment"
    }
   },
   "outputs": [
    {
     "name": "stdout",
     "output_type": "stream",
     "text": [
      "insgesamt 4732\r\n",
      "drwxrwxr-x 2 martin martin    4096 Jun 16 20:31 .\r\n",
      "drwxrwxr-x 6 martin martin    4096 Jun 16 23:18 ..\r\n",
      "-rw-rw-r-- 1 martin martin 4373916 Dez  6  2018 fort.16\r\n",
      "-rw-rw-r-- 1 martin martin  434684 Dez  6  2018 fort.2\r\n",
      "-rw-rw-r-- 1 martin martin   10870 Dez  6  2018 fort.3\r\n",
      "-rw-rw-r-- 1 martin martin    6144 Dez  6  2018 fort.8\r\n",
      "-rwxrwxr-x 1 martin martin     101 Dez  6  2018 runsix\r\n"
     ]
    }
   ],
   "source": [
    "import sixtracktools \n",
    "import pysixtrack as py6tr\n",
    "import sixtracklib as st\n",
    "\n",
    "# SixTrack input files + helper script to run the SixTrack binary are \n",
    "# in subdirectory here:\n",
    "\n",
    "!ls -al ./sixtrack_lhc_no_bb_example/"
   ]
  },
  {
   "cell_type": "code",
   "execution_count": 14,
   "metadata": {
    "slideshow": {
     "slide_type": "subslide"
    }
   },
   "outputs": [
    {
     "name": "stdout",
     "output_type": "stream",
     "text": [
      "import_lattice has 18403 elements\n",
      "-rw-rw-r-- 1 martin martin 3,8M Jun 16 23:19 ./lhc_no_bb_lattice.bin\n"
     ]
    }
   ],
   "source": [
    "six = sixtracktools.SixInput(\"./sixtrack_lhc_no_bb_example\" )\n",
    "import_lattice = py6tr.Line.from_sixinput( six ).remove_zero_length_drifts(\n",
    "    inplace=True).merge_consecutive_drifts(inplace=True)\n",
    "\n",
    "print( f\"import_lattice has {len(import_lattice)} elements\" )\n",
    "\n",
    "# Same procedure as usual -> convert import_lattice to a SixTrackLattice\n",
    "lattice = st.Elements().from_line( import_lattice )\n",
    "\n",
    "# Create a binary dump for the machine description:\n",
    "lattice.to_file( \"./lhc_no_bb_lattice.bin\" )\n",
    "\n",
    "# Verify the size of the binary dump:\n",
    "!ls -alh ./lhc_no_bb_lattice.bin"
   ]
  },
  {
   "cell_type": "markdown",
   "metadata": {
    "slideshow": {
     "slide_type": "slide"
    }
   },
   "source": [
    "# Tracking Examples\n"
   ]
  },
  {
   "cell_type": "markdown",
   "metadata": {
    "slideshow": {
     "slide_type": "slide"
    }
   },
   "source": [
    "## Simple Tracking Example (CPU)"
   ]
  },
  {
   "cell_type": "code",
   "execution_count": 39,
   "metadata": {
    "slideshow": {
     "slide_type": "fragment"
    }
   },
   "outputs": [
    {
     "name": "stdout",
     "output_type": "stream",
     "text": [
      "initial transversal displacement for particles: [-1.00000000e-06 -7.77777778e-07 -5.55555556e-07 -3.33333333e-07\n",
      " -1.11111111e-07  1.11111111e-07  3.33333333e-07  5.55555556e-07\n",
      "  7.77777778e-07  1.00000000e-06]\r\n",
      "\n",
      "number of elements in lattice: 18403\n"
     ]
    }
   ],
   "source": [
    "# Create an initial particle distribution:\n",
    "\n",
    "beam = st.ParticlesSet()\n",
    "p = beam.Particles(num_particles=10, p0c=6.5e12)\n",
    "p.x[:] = np.linspace(-1e-6, +1e-6, p.num_particles)\n",
    "\n",
    "if p.num_particles <= 16:\n",
    "    print( f\"initial transversal displacement for particles: {p.x}\\r\\n\" )\n",
    "\n",
    "# Load the lattice from the binary dump we crated earlier\n",
    "lattice = st.Elements().fromfile(\"./lhc_no_bb_lattice.bin\")\n",
    "print( f\"number of elements in lattice: {lattice.cbuffer.n_objects}\") \n",
    "\n",
    "# What's cbuffer -> Cf. BE Seminar talk for details!\n"
   ]
  },
  {
   "cell_type": "code",
   "execution_count": 16,
   "metadata": {
    "slideshow": {
     "slide_type": "subslide"
    }
   },
   "outputs": [
    {
     "name": "stdout",
     "output_type": "stream",
     "text": [
      "at_element before tracking: [0 0 0 0 0 0 0 0 0 0]\n",
      "at_turn    before tracking: [0 0 0 0 0 0 0 0 0 0]\n",
      "state      before tracking: [1 1 1 1 1 1 1 1 1 1]\n",
      "x          before tracking: [-1.00000000e-06 -7.77777778e-07 -5.55555556e-07 -3.33333333e-07\n",
      " -1.11111111e-07  1.11111111e-07  3.33333333e-07  5.55555556e-07\n",
      "  7.77777778e-07  1.00000000e-06]\n"
     ]
    }
   ],
   "source": [
    "# Setup a track-job instance:\n",
    "job = st.TrackJob( lattice, beam )\n",
    "\n",
    "# Print particle state before tracking:\n",
    "if p.num_particles <= 16:    \n",
    "    print( f\"at_element before tracking: {p.at_element}\" )\n",
    "    print( f\"at_turn    before tracking: {p.at_turn}\" )\n",
    "    print( f\"state      before tracking: {p.state}\" )\n",
    "    print( f\"x          before tracking: {p.x}\" )"
   ]
  },
  {
   "cell_type": "code",
   "execution_count": 17,
   "metadata": {
    "slideshow": {
     "slide_type": "subslide"
    }
   },
   "outputs": [
    {
     "name": "stdout",
     "output_type": "stream",
     "text": [
      "at_element after tracking: [0 0 0 0 0 0 0 0 0 0]\n",
      "at_turn    after tracking: [100 100 100 100 100 100 100 100 100 100]\n",
      "state      after tracking: [1 1 1 1 1 1 1 1 1 1]\n",
      "x          after tracking: [-9.99845051e-07 -7.77634845e-07 -5.55429506e-07 -3.33228213e-07\n",
      " -1.11030165e-07  1.11165448e-07  3.33359448e-07  5.55552646e-07\n",
      "  7.77745826e-07  9.99939830e-07]\n"
     ]
    }
   ],
   "source": [
    "# Track particles <b>until</b> they are in turn 100\n",
    "job.track_until( 100 )\n",
    "\n",
    "# Print particle state after tracking for 100 turns:\n",
    "if p.num_particles <= 16:    \n",
    "    print( f\"at_element after tracking: {p.at_element}\" )\n",
    "    print( f\"at_turn    after tracking: {p.at_turn}\" )\n",
    "    print( f\"state      after tracking: {p.state}\" )\n",
    "    print( f\"x          after tracking: {p.x}\" )\n",
    "    \n",
    "# Note: the command is called <tt>track_until</tt> - if we call it again,\n",
    "# it will have no effect because all particles are alreaedy at turn 100!\n",
    "# -> we would have to call <tt>track_until( 200 )</tt> to get the desired effect"
   ]
  },
  {
   "cell_type": "code",
   "execution_count": 18,
   "metadata": {
    "slideshow": {
     "slide_type": "subslide"
    }
   },
   "outputs": [
    {
     "name": "stdout",
     "output_type": "stream",
     "text": [
      "state after manually loosing a particle: [0 1 1 1 1 1 1 1 1 1]\n",
      "\n",
      "at_element after 200 turns : [0 0 0 0 0 0 0 0 0 0]\n",
      "at_turn    after 200 turns : [100 200 200 200 200 200 200 200 200 200]\n",
      "state      after 200 turns : [0 1 1 1 1 1 1 1 1 1]\n",
      "x          after 200 turns : [-9.99845051e-07 -7.77491911e-07 -5.55303462e-07 -3.33123094e-07\n",
      " -1.10949224e-07  1.11219787e-07  3.33385573e-07  5.55549726e-07\n",
      "  7.77713872e-07  9.99879665e-07]\n"
     ]
    }
   ],
   "source": [
    "# Let's Loose a particle\n",
    "p.state[0] = 0\n",
    "if p.num_particles <= 16:        \n",
    "    print( f\"state after manually loosing a particle: {p.state}\\r\\n\" )\n",
    "    \n",
    "# Track until turn 200 and verify the result:\n",
    "job.track_until( 200 )\n",
    "\n",
    "if p.num_particles <= 16:    \n",
    "    print( f\"at_element after 200 turns : {p.at_element}\" )\n",
    "    print( f\"at_turn    after 200 turns : {p.at_turn}\" )\n",
    "    print( f\"state      after 200 turns : {p.state}\" )\n",
    "    print( f\"x          after 200 turns : {p.x}\" )"
   ]
  },
  {
   "cell_type": "markdown",
   "metadata": {
    "slideshow": {
     "slide_type": "slide"
    }
   },
   "source": [
    "## Simple Tracking Example (OpenCL, GPU)\n",
    "\n",
    "First, check whether we have any OpenCL devices and whether <tt>SixTrackLib</tt> has been compiled with OpenCL support:"
   ]
  },
  {
   "cell_type": "code",
   "execution_count": 19,
   "metadata": {
    "slideshow": {
     "slide_type": "fragment"
    }
   },
   "outputs": [
    {
     "name": "stdout",
     "output_type": "stream",
     "text": [
      "SixTrackLib has OpenCL support enabled: True\n"
     ]
    }
   ],
   "source": [
    "print( f\"SixTrackLib has OpenCL support enabled: {st.config.SIXTRACKLIB_MODULES['opencl']}\")"
   ]
  },
  {
   "cell_type": "code",
   "execution_count": 20,
   "metadata": {
    "slideshow": {
     "slide_type": "fragment"
    }
   },
   "outputs": [
    {
     "name": "stdout",
     "output_type": "stream",
     "text": [
      "Platform #0: Intel(R) FPGA Emulation Platform for OpenCL(TM)\r\n",
      " `-- Device #0: Intel(R) FPGA Emulation Device\r\n",
      "Platform #1: Intel(R) OpenCL\r\n",
      " `-- Device #0: Intel(R) Core(TM) i5-5300U CPU @ 2.30GHz\r\n",
      "Platform #2: Portable Computing Language\r\n",
      " `-- Device #0: pthread-Intel(R) Core(TM) i5-5300U CPU @ 2.30GHz\r\n",
      "Platform #3: Intel(R) OpenCL HD Graphics\r\n",
      " `-- Device #0: Intel(R) Gen8 HD Graphics NEO\r\n",
      "Platform #4: Experimental OpenCL 2.1 CPU Only Platform\r\n",
      " `-- Device #0: Intel(R) Core(TM) i5-5300U CPU @ 2.30GHz\r\n"
     ]
    }
   ],
   "source": [
    "!clinfo -l "
   ]
  },
  {
   "cell_type": "code",
   "execution_count": 21,
   "metadata": {
    "slideshow": {
     "slide_type": "subslide"
    }
   },
   "outputs": [
    {
     "name": "stdout",
     "output_type": "stream",
     "text": [
      "track job instance has architecture opencl\n"
     ]
    }
   ],
   "source": [
    "# Re-create the initial state:\n",
    "beam = st.ParticlesSet()\n",
    "p = beam.Particles(num_particles=10, p0c=6.5e12)\n",
    "p.x[:] = np.linspace(-1e-6, +1e-6, p.num_particles)\n",
    "lattice = st.Elements().fromfile(\"./lhc_no_bb_lattice.bin\")\n",
    "\n",
    "# Again, create a TrackJob. But this time, we pass the \"device\" string\n",
    "opencl_job = st.TrackJob( lattice, beam, device=\"opencl:1.0\" )\n",
    "\n",
    "print( f\"track job instance has architecture {opencl_job.arch_str}\" )"
   ]
  },
  {
   "cell_type": "code",
   "execution_count": 22,
   "metadata": {
    "slideshow": {
     "slide_type": "subslide"
    }
   },
   "outputs": [
    {
     "name": "stdout",
     "output_type": "stream",
     "text": [
      "at_element after tracking: [0 0 0 0 0 0 0 0 0 0]\n",
      "at_turn    after tracking: [0 0 0 0 0 0 0 0 0 0]\n",
      "state      after tracking: [1 1 1 1 1 1 1 1 1 1]\n",
      "x          after tracking: [-1.00000000e-06 -7.77777778e-07 -5.55555556e-07 -3.33333333e-07\n",
      " -1.11111111e-07  1.11111111e-07  3.33333333e-07  5.55555556e-07\n",
      "  7.77777778e-07  1.00000000e-06]\n"
     ]
    }
   ],
   "source": [
    "# Again: track until turn 100\n",
    "opencl_job.track_until( 100 )\n",
    "\n",
    "# Print particle state after tracking for 100 turns:\n",
    "if p.num_particles <= 16:    \n",
    "    print( f\"at_element after tracking: {p.at_element}\" )\n",
    "    print( f\"at_turn    after tracking: {p.at_turn}\" )\n",
    "    print( f\"state      after tracking: {p.state}\" )\n",
    "    print( f\"x          after tracking: {p.x}\" )\n",
    "    \n",
    "# Spoiler: this does not seem to work. Why?"
   ]
  },
  {
   "cell_type": "markdown",
   "metadata": {
    "slideshow": {
     "slide_type": "subslide"
    }
   },
   "source": [
    "## Remember From Introduction To GPU Programming Talk:\n",
    "\n",
    "<img src=\"images/anatomy_of_gpu_program_06.png\" alt=\"results have to be copied back from device to host\" />"
   ]
  },
  {
   "cell_type": "code",
   "execution_count": 23,
   "metadata": {
    "slideshow": {
     "slide_type": "subslide"
    }
   },
   "outputs": [
    {
     "name": "stdout",
     "output_type": "stream",
     "text": [
      "at_element after tracking: [0 0 0 0 0 0 0 0 0 0]\n",
      "at_turn    after tracking: [100 100 100 100 100 100 100 100 100 100]\n",
      "state      after tracking: [1 1 1 1 1 1 1 1 1 1]\n",
      "x          after tracking: [-9.99845052e-07 -7.77634846e-07 -5.55429505e-07 -3.33228214e-07\n",
      " -1.11030165e-07  1.11165447e-07  3.33359448e-07  5.55552645e-07\n",
      "  7.77745826e-07  9.99939829e-07]\n"
     ]
    }
   ],
   "source": [
    "# Copying the data back from the device to the host can be a costly operation\n",
    "# Thus, it is not done automatically -> we have to \"collect\" the results\n",
    "opencl_job.collect_particles()\n",
    "\n",
    "# If we print the the particle data now, we should have the exprected particle state\n",
    "if p.num_particles <= 16:    \n",
    "    print( f\"at_element after tracking: {p.at_element}\" )\n",
    "    print( f\"at_turn    after tracking: {p.at_turn}\" )\n",
    "    print( f\"state      after tracking: {p.state}\" )\n",
    "    print( f\"x          after tracking: {p.x}\" )"
   ]
  },
  {
   "cell_type": "markdown",
   "metadata": {
    "slideshow": {
     "slide_type": "subslide"
    }
   },
   "source": [
    "### When To Call <tt>collect_*</tt> And <tt>push_*</tt>:\n",
    "\n",
    "<ul>\n",
    "  <li>Whenever we need the current content of a dataset (e.g. particles, beam elements, ...) on the host, we have to call <tt>collect_*</tt></li>\n",
    "  <li>Whenever we want to send the current content of a dataset (again: particles, beam elements, ... ) to the device, we have to call <tt>push_*</tt></li>\n",
    "</ul>"
   ]
  },
  {
   "cell_type": "markdown",
   "metadata": {
    "slideshow": {
     "slide_type": "subslide"
    }
   },
   "source": [
    "<b>Host To Device:</b> &nbsp;<tt>push_*</tt>\n",
    "<img src=\"images/anatomy_of_gpu_program_04.png\" alt=\"copying data from the host to the device requires push command\" />"
   ]
  },
  {
   "cell_type": "code",
   "execution_count": 24,
   "metadata": {
    "slideshow": {
     "slide_type": "subslide"
    }
   },
   "outputs": [
    {
     "name": "stdout",
     "output_type": "stream",
     "text": [
      "state after manually loosing a particle: [0 1 1 1 1 1 1 1 1 1]\n",
      "\n",
      "at_element after 200 turns : [0 0 0 0 0 0 0 0 0 0]\n",
      "at_turn    after 200 turns : [100 200 200 200 200 200 200 200 200 200]\n",
      "state      after 200 turns : [0 1 1 1 1 1 1 1 1 1]\n",
      "x          after 200 turns : [-9.99845052e-07 -7.77491913e-07 -5.55303460e-07 -3.33123095e-07\n",
      " -1.10949223e-07  1.11219786e-07  3.33385572e-07  5.55549725e-07\n",
      "  7.77713871e-07  9.99879664e-07]\n"
     ]
    }
   ],
   "source": [
    "# Repeat the experiment with the explicitly \"lost\" particle:\n",
    "p.state[ 0 ] = 0\n",
    "\n",
    "if p.num_particles <= 16:        \n",
    "    print( f\"state after manually loosing a particle: {p.state}\\r\\n\" )\n",
    "\n",
    "# It should not be a big surprise, that we need something equivalent to \"collect\"\n",
    "# but working in the other direction, i.e. from Host -> Device\n",
    "opencl_job.push_particles()\n",
    "    \n",
    "# Track until turn 200:\n",
    "opencl_job.track_until( 200 )\n",
    "\n",
    "# everytime we need the particle state on the host side, we\n",
    "# have to collect the data:\n",
    "opencl_job.collect_particles()\n",
    "\n",
    "# Now, we expect the same output as before:\n",
    "if p.num_particles <= 16:    \n",
    "    print( f\"at_element after 200 turns : {p.at_element}\" )\n",
    "    print( f\"at_turn    after 200 turns : {p.at_turn}\" )\n",
    "    print( f\"state      after 200 turns : {p.state}\" )\n",
    "    print( f\"x          after 200 turns : {p.x}\" )"
   ]
  },
  {
   "cell_type": "markdown",
   "metadata": {
    "slideshow": {
     "slide_type": "subslide"
    }
   },
   "source": [
    "<ul>\n",
    "    <li><tt>collect_*</tt> and <tt>push_*</tt> are potentially expensive calls (band-width for transfer, latency, waiting for all running kernels</li>\n",
    "    <li>They contribute to $t_s$!!!</li>\n",
    "    <li>$\\rightarrow$With the exception of the initial <tt>push_*</tt> when setting up the track job, these are not performed automatically!</li>\n",
    "    <li> Calling <tt>push_*</tt> and <tt>collect_*</tt> has (almost) no negative run-time-cost effect on a CPU track-job</li>\n",
    "    <li> $\\Longrightarrow$ If you call them also with a CPU track-job, your code works on the GPU with just changing the setup line of the track-job!</li>\n",
    "</ul>"
   ]
  },
  {
   "cell_type": "markdown",
   "metadata": {
    "slideshow": {
     "slide_type": "slide"
    }
   },
   "source": [
    "## Generic Tracking Program (Works On CPUs &amp; GPUs With Minimal Changes)"
   ]
  },
  {
   "cell_type": "code",
   "execution_count": 38,
   "metadata": {
    "slideshow": {
     "slide_type": "fragment"
    }
   },
   "outputs": [
    {
     "name": "stdout",
     "output_type": "stream",
     "text": [
      "Architecture of the track job: opencl\n",
      "at_element after 200 turns : [0 0 0 0 0 0 0 0 0 0]\n",
      "at_turn    after 200 turns : [100 200 200 200 200 200 200 200 200 200]\n",
      "state      after 200 turns : [0 1 1 1 1 1 1 1 1 1]\n"
     ]
    }
   ],
   "source": [
    "beam = st.ParticlesSet()\n",
    "p = beam.Particles(num_particles=10, p0c=6.5e12)\n",
    "p.x[:] = np.linspace(-1e-6, +1e-6, p.num_particles)\n",
    "lattice = st.Elements().fromfile(\"./lhc_no_bb_lattice.bin\")\n",
    "\n",
    "#device=None  # Or: \n",
    "device=\"opencl:0.0\" #for GPU\n",
    "\n",
    "job = st.TrackJob( lattice, beam, device=device )\n",
    "print( f\"Architecture of the track job: {job.arch_str}\")\n",
    "\n",
    "job.track_until( 100 )\n",
    "job.collect_particles()\n",
    "\n",
    "p.state[0] = 0 # Mark particle 0 explicitly as lost\n",
    "job.push_particles()\n",
    "\n",
    "job.track_until( 200 )\n",
    "job.collect_particles()\n",
    "\n",
    "if p.num_particles <= 16:    \n",
    "    print( f\"at_element after 200 turns : {p.at_element}\" )\n",
    "    print( f\"at_turn    after 200 turns : {p.at_turn}\" )\n",
    "    print( f\"state      after 200 turns : {p.state}\" )"
   ]
  },
  {
   "cell_type": "markdown",
   "metadata": {
    "slideshow": {
     "slide_type": "slide"
    }
   },
   "source": [
    "## Note: Different Track Nodes"
   ]
  },
  {
   "cell_type": "markdown",
   "metadata": {
    "slideshow": {
     "slide_type": "fragment"
    }
   },
   "source": [
    "### 1) <tt>track_until</tt> Mode:\n",
    "<img src=\"images/track_modes_01.png\" alt=\"track_until mode\" />"
   ]
  },
  {
   "cell_type": "markdown",
   "metadata": {
    "slideshow": {
     "slide_type": "fragment"
    }
   },
   "source": [
    "### 2) <tt>track_elem_by_elem</tt> Mode:\n",
    "<img src=\"images/track_modes_02.png\" alt=\"track_until mode\" />"
   ]
  },
  {
   "cell_type": "markdown",
   "metadata": {
    "slideshow": {
     "slide_type": "fragment"
    }
   },
   "source": [
    "### 1) <tt>track_line</tt> Mode:\n",
    "<img src=\"images/track_modes_03.png\" alt=\"track_until mode\" />"
   ]
  },
  {
   "cell_type": "markdown",
   "metadata": {
    "slideshow": {
     "slide_type": "slide"
    }
   },
   "source": [
    "# End of Interactive Jupyter-Notebook\n",
    "\n",
    "&rightarrow; return to main presentation"
   ]
  },
  {
   "cell_type": "code",
   "execution_count": null,
   "metadata": {},
   "outputs": [],
   "source": []
  }
 ],
 "metadata": {
  "celltoolbar": "Slideshow",
  "kernelspec": {
   "display_name": "Python 3",
   "language": "python",
   "name": "python3"
  },
  "language_info": {
   "codemirror_mode": {
    "name": "ipython",
    "version": 3
   },
   "file_extension": ".py",
   "mimetype": "text/x-python",
   "name": "python",
   "nbconvert_exporter": "python",
   "pygments_lexer": "ipython3",
   "version": "3.7.7"
  }
 },
 "nbformat": 4,
 "nbformat_minor": 4
}
