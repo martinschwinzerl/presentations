{
 "cells": [
  {
   "cell_type": "markdown",
   "metadata": {
    "slideshow": {
     "slide_type": "slide"
    }
   },
   "source": [
    "<div id=\"title_slide\">\n",
    "<h1 class=title_page>Introduction To GPU Programming</h1>\n",
    "    <div class=\"title_page_info\">\n",
    "        <span class=\"main_author\">Martin Schwinzerl</span>, Riccardo de Maria<br />\n",
    "        HSS Section Meeting, CERN<br /> \n",
    "        June 3rd, 2020\n",
    "    </div>'\n",
    "</div>"
   ]
  },
  {
   "cell_type": "markdown",
   "metadata": {
    "slideshow": {
     "slide_type": "slide"
    }
   },
   "source": [
    "<h2 class=\"slide\">Goals</h2>\n",
    "<ul class=\"level1\">\n",
    "    <li>Overview about the GPU computing landscape (Concepts, Hardware)</li>\n",
    "    <li>Introduce the (currently) two most established frameworks</li>\n",
    "    <li>Provide Simple Examples to get started</li>\n",
    "    <li>Outline the typical workflow within a GPU enhanced Program</li>\n",
    "    <li>Performance Analysis&amp; Constraints</li>\n",
    "</ul>"
   ]
  },
  {
   "cell_type": "markdown",
   "metadata": {
    "slideshow": {
     "slide_type": "fragment"
    }
   },
   "source": [
    "<ul class=\"level1\">\n",
    "    <li><b>Motivate Design-Decisions &amp; Implementation of <span class=\"project_name\">SixTrackLib</span></b></li>\n",
    "</ul>"
   ]
  },
  {
   "cell_type": "markdown",
   "metadata": {
    "slideshow": {
     "slide_type": "fragment"
    }
   },
   "source": [
    "<p class=\"content\">\n",
    "    <b>Note:</b> This is an interactive Jupyter Notebook - all presented examples are designed to work \n",
    "    and allow you to experiment with them. Notbook available from:\n",
    "</p>"
   ]
  },
  {
   "cell_type": "markdown",
   "metadata": {
    "slideshow": {
     "slide_type": "slide"
    }
   },
   "source": [
    "<h2 class=\"slide\">GPU Hardware Categories</h2>\n",
    "<div class=\"multi_cols\">\n",
    "    <div style=\"width: 50%; float: left;\">\n",
    "    <ul class=\"level1\">\n",
    "        <li><b>Low-End Gaming: &asymp; 100 EUR</b>\n",
    "        <ul class=\"level2\">\n",
    "            <li>Still equal or better FP performance than typical CPU in SP and DP</li>\n",
    "            <li>DP performance usualy much poorer than SP!</li>\n",
    "        </ul>\n",
    "        </li>\n",
    "    </ul>\n",
    "    </div>\n",
    "    <div style=\"margin-left: 50%;\"> \n",
    "    <ul class=\"level1\">\n",
    "        <li>AMD RX 560 TI 4 GByte\n",
    "        <ul class=\"level2\">\n",
    "            <li>1024 Cores</li>\n",
    "            <li>SP Peak Performance 2406 GFLOP/s</li>\n",
    "            <li>DP Peak Performance  163 GFLOP/s &asymp; 1/16 SP</li>\n",
    "        </ul></li>\n",
    "        <li>NVidia GTX 1050 Ti 4 GByte\n",
    "        <ul class=\"level2\">\n",
    "            <li>768 Cores</li>\n",
    "            <li>SP Peak Performance 1981 GFLOP/s</li>\n",
    "            <li>DP Peak Performance 62 GFLOP/s = 1/32 SP</li>\n",
    "        </ul>\n",
    "        </li>\n",
    "    </ul>    \n",
    "    </div>\n",
    "    <ul class=\"level1\">\n",
    "        <li>SP ... IEEE754 32Bit single precision floating point numbers</li>\n",
    "        <li>DP ... IEEE754 64Bit double precision floating point numbers</li>\n",
    "    </ul>\n",
    "</div>"
   ]
  },
  {
   "cell_type": "markdown",
   "metadata": {
    "slideshow": {
     "slide_type": "subslide"
    }
   },
   "source": [
    "<h2 class=\"slide\">GPU Hardware Categories</h2>\n",
    "<div class=\"multi_cols\">\n",
    "    <div style=\"width: 50%; float: left;\">\n",
    "    <ul class=\"level1\">\n",
    "        <li>Low-End Gaming: &asymp; 100 EUR</li>\n",
    "        <li><b>High-End Gaming: &leq; 1000 EUR</b>\n",
    "        <ul class=\"level2\">\n",
    "            <li>Substancial performance in SP</li>\n",
    "            <li>DP performance varies!</li>\n",
    "        </ul>\n",
    "        </li>\n",
    "    </ul>\n",
    "    </div>\n",
    "    <div style=\"margin-left: 50%;\"> \n",
    "    <ul class=\"level1\">\n",
    "        <li>NVidia GeForce RTX 2080 8GByte\n",
    "        <ul class=\"level2\">\n",
    "            <li>3072 Cores</li>\n",
    "            <li>SP Peak Performance 8920 GFLOP/s</li>\n",
    "            <li>DP Peak Performance 279 GFLOP/s = 1/32 SP</li>\n",
    "        </ul>\n",
    "        </li>\n",
    "        <li>AMD RX Vega 64 8 GByte\n",
    "        <ul class=\"level2\">\n",
    "            <li>3840 Cores</li>\n",
    "            <li>SP Peak Performance 11518 GFLOP/s</li>\n",
    "            <li>DP Peak Performance   720 GFLOP/s = 1/16 SP</li>\n",
    "        </ul></li>\n",
    "    </ul>    \n",
    "    </div>\n",
    "    <ul class=\"level1\">\n",
    "        <li>SP ... IEEE754 32Bit single precision floating point numbers</li>\n",
    "        <li>DP ... IEEE754 64Bit double precision floating point numbers</li>\n",
    "    </ul>\n",
    "</div>"
   ]
  },
  {
   "cell_type": "markdown",
   "metadata": {
    "slideshow": {
     "slide_type": "subslide"
    }
   },
   "source": [
    "<h2 class=\"slide\">GPU Hardware Categories</h2>\n",
    "<div class=\"multi_cols\">\n",
    "    <div style=\"width: 50%; float: left;\">\n",
    "    <ul class=\"level1\">\n",
    "        <li>Low-End Gaming: &asymp; 100 EUR</li>\n",
    "        <li>High-End Gaming: &leq; 1 kEUR</li>\n",
    "        <li><b>Hybrid HPC: &asymp; 3 kEUR - 8 kEUR</b>\n",
    "        <ul class=\"level2\">\n",
    "            <li>Substantial performance in SP</li>\n",
    "            <li>DP performance &asymp; 1/2 SP</li>\n",
    "        </ul></li>\n",
    "        <li><b>Server HPC: &asymp; 6 kEUR - 8 kEUR</b>\n",
    "        <ul class=\"level2\">\n",
    "            <li>Similar performance characteristics as with hybrid HPC, but</li>\n",
    "            <li>No video outputs, i.e. \"Accelerator Card\"</li>\n",
    "        </ul></li>\n",
    "    </ul>\n",
    "    </div>\n",
    "    <div style=\"margin-left: 50%;\"> \n",
    "    <ul class=\"level1\">\n",
    "        <li>NVidia Titan V 12 GBytes\n",
    "        <ul class=\"level2\">\n",
    "            <li>3072 Cores</li>\n",
    "            <li>Hybrid card - Video outputs available</li>\n",
    "            <li>SP Peak Performance 12288 GFLOP/s</li>\n",
    "            <li>DP Peak Performance 6144 GFLOP/s = 1/2 SP</li>\n",
    "        </ul>\n",
    "        </li>\n",
    "        <li>AMD Radeon Instinct MI50 16 GBytes\n",
    "        <ul class=\"level2\">\n",
    "            <li>3840 Cores</li>\n",
    "            <li>SP Peak Performance 13400 GFLOP/s</li>\n",
    "            <li>DP Peak Performance 6700 GFLOP/s = 1/2 SP</li>\n",
    "        </ul></li>\n",
    "    </ul>    \n",
    "    </div>\n",
    "    <ul class=\"level1\">\n",
    "        <li>SP ... IEEE754 32Bit single precision floating point numbers</li>\n",
    "        <li>DP ... IEEE754 64Bit double precision floating point numbers</li>\n",
    "    </ul>\n",
    "</div>"
   ]
  },
  {
   "cell_type": "markdown",
   "metadata": {
    "slideshow": {
     "slide_type": "subslide"
    }
   },
   "source": [
    "<h2 class=\"slide\">GPU Hardware Categories</h2>\n",
    "<div class=\"multi_cols\">\n",
    "    <div style=\"width: 50%; float: left;\">\n",
    "    <ul class=\"level1\">\n",
    "        <li>Low-End Gaming: &asymp; 100 EUR</li>\n",
    "        <li>High-End Gaming: &leq; 1 kEUR</li>\n",
    "        <li>Hybrid HPC: &asymp; 3 kEUR - 8 kEUR</li>\n",
    "        <li>Server HPC: &asymp; 6 kEUR - 8 kEUR</li>\n",
    "        <li><b>AI Server HPC: &asymp; 6 kEUR - 10 kEUR</b></li>\n",
    "    </ul>\n",
    "    </div>\n",
    "    <div style=\"margin-left: 50%;\"> \n",
    "    <ul class=\"level1\">\n",
    "        <li>Substancial Integer, SP and Half-Precision Performance or</li>\n",
    "        <li>TOPS ... Trillion operations per second of dedicated neural network computes</li>\n",
    "        <li>Task-specific Hybrid systems with FPGA and/or CPU enhancements</li>\n",
    "        <li>No classical GPU, no video outputs \"Accelerator Card\"</li>\n",
    "    </ul>    \n",
    "    </div>\n",
    "</div>\n",
    "<ul class=\"level1\">\n",
    "    <li>SP ... IEEE754 32Bit single precision floating point numbers</li>\n",
    "    <li>DP ... IEEE754 64Bit double precision floating point numbers</li>\n",
    "</ul>\n"
   ]
  },
  {
   "cell_type": "markdown",
   "metadata": {
    "slideshow": {
     "slide_type": "slide"
    }
   },
   "source": [
    "<h2 class=\"slide\">CPUs versus GPUs</h2>\n",
    "<div class=\"multi_cols\">\n",
    "    <div style=\"width: 50%; float: left;\">\n",
    "    <table class=\"default\">\n",
    "        <tr>\n",
    "            <th></th>\n",
    "            <th>CPU</th>\n",
    "            <th>GPU</th>\n",
    "        </tr>\n",
    "        <tr>\n",
    "            <td>Cores / Compute Units</td>\n",
    "            <td>2 - 64 (128 HT/SMT)</td>\n",
    "            <td>16 - 80</td>\n",
    "        </tr>\n",
    "        <tr>\n",
    "            <td>Arithmetic Units / Core</td>\n",
    "            <td>2-8</td>\n",
    "            <td>64</td>\n",
    "        </tr>\n",
    "        <tr>\n",
    "            <td>Peak Performance SP</td>\n",
    "            <td>24-3200 GFLOP/s</td>\n",
    "            <td>1000-19500 GFLOP/s</td>\n",
    "        </tr>\n",
    "        <tr>\n",
    "            <td>Peak Performance DP</td>\n",
    "            <td>12-1600 GFLOP/s</td>\n",
    "            <td>50-9700 GFLOP/s</td>\n",
    "        </tr>\n",
    "    </table>\n",
    "    </div>\n",
    "    <div style=\"margin-left: 50%; text-align: left;\">\n",
    "    <p>Compared to CPUs, GPUs have:</p>\n",
    "    <ul class=\"level1\">\n",
    "        <li>More arithmetic units (in particular SP)</li>\n",
    "        <li>Less logic for control flow</li>\n",
    "        <li>Less registers per arithmetic units</li>\n",
    "        <li>Less memory but larger memory bandwidth</li>\n",
    "    </ul>\n",
    "    </div>\n",
    "</div>\n",
    "<ul class=\"level1\">\n",
    "    <li>SP ... IEEE754 32Bit single precision floating point numbers</li>\n",
    "    <li>DP ... IEEE754 64Bit double precision floating point numbers</li>\n",
    "    <li>For CPUs: DP performance is roughly 1/2 of SP performance (YMMV)</li>\n",
    "</ul>"
   ]
  },
  {
   "cell_type": "markdown",
   "metadata": {
    "slideshow": {
     "slide_type": "slide"
    }
   },
   "source": [
    "<h2 class=\"slide\">Introducing Parallelism</h2>\n",
    "<ul class=\"level1\">\n",
    "    <li><b>Task Parallelism:</b> perform multiple tasks on the same dataset<br />\n",
    "    Example: Check if a number is a prime number by checking divisibility in parallel</li>\n",
    "</ul>"
   ]
  },
  {
   "cell_type": "markdown",
   "metadata": {
    "slideshow": {
     "slide_type": "subslide"
    }
   },
   "source": [
    "<h2 class=\"slide\">Introducing Parallelism</h2>\n",
    "<ul class=\"level1\">\n",
    "    <li><b>Data Parallelism:</b> perform the same task on multiple datasets<br />\n",
    "    Example: Vector addition</li>\n",
    "</ul>\n",
    "<img src=\"images/data_parallelism.svg\" alt=\"graphical representation of data-parallelism using a vector addition as an example\" width=\"60%\" />"
   ]
  },
  {
   "cell_type": "markdown",
   "metadata": {
    "slideshow": {
     "slide_type": "slide"
    }
   },
   "source": [
    "<h2 class=\"slide\">Example: Vector Addtion on the GPU using CuPy</h2>\n",
    "<p class=\"content\">\n",
    "    Cf. <a href=\"https://github.com/cupy/cupy\">https://github.com/cupy/cupy</a> and \n",
    "    <a href=\"https://cupy.chainer.org/\">https://cupy.chainer.org/</a> for reference\n",
    "</p>"
   ]
  },
  {
   "cell_type": "code",
   "execution_count": 1,
   "metadata": {
    "slideshow": {
     "slide_type": "fragment"
    }
   },
   "outputs": [],
   "source": [
    "# If you have a NVidia GPU, one of the simplest ways to offload calculations to the GPU is to use CuPy\n",
    "\n",
    "import cupy\n",
    "import numpy as np\n",
    "\n",
    "N = 10000000 # 1.0e7 elements \n",
    "\n",
    "x_host = np.random.rand( N )\n",
    "y_host = np.random.rand( N )\n",
    "\n",
    "# Create vectors of random numbers. CuPy handles all the required steps behind the scenes\n",
    "x = cupy.asarray( x_host )\n",
    "y = cupy.asarray( y_host )\n",
    "\n",
    "# x and y are cupy entities that \"live\" on the GPU while \n",
    "# x_host and y_host \"live\" in regular memory\n",
    "# The same applies to the result of the calculation z:\n",
    "\n",
    "z = x + y  # Vector addition is actually performed on the GPU"
   ]
  },
  {
   "cell_type": "code",
   "execution_count": 2,
   "metadata": {
    "slideshow": {
     "slide_type": "subslide"
    }
   },
   "outputs": [
    {
     "name": "stdout",
     "output_type": "stream",
     "text": [
      "calculation on host and device yield same result: True\n"
     ]
    }
   ],
   "source": [
    "# in order to make use of the result outside of the GPU, \n",
    "# we have to convert z into a regular numpy array\n",
    "z_host = cupy.asnumpy( z )\n",
    "\n",
    "# Compare result to calculation on CPU\n",
    "print( f\"calculation on host and device yield same result: {np.allclose( z_host, x_host + y_host, rtol=0.0, atol=1e-16)}\" )\n",
    "\n",
    "del x, y, z, x_host, y_host, z_host"
   ]
  },
  {
   "cell_type": "markdown",
   "metadata": {
    "slideshow": {
     "slide_type": "slide"
    }
   },
   "source": [
    "<h2 class=\"slide\">Overview: Frameworks, Libraries, Toolboxes for GPU Programming</h2>\n",
    "<ul class=\"level1\">\n",
    "    <li>High-Level Libraries and Applications\n",
    "        <ul class=\"level2\">\n",
    "            <li>CuPy: numpy-like python module for NVIDIA GPUs</li>\n",
    "            <li>Tensorflow: mostly support for NVIDIA GPUs, some opportunities to use other cards via SYCL</li>\n",
    "            <li>Matlab (currently only NVIDIA GPUs are supported)</li>\n",
    "            <li>Julia</li>\n",
    "            <li>Mathematica</li>\n",
    "            <li>....</li>\n",
    "        </ul></li>\n",
    "    <li>HPC frameworks &amp; libraries\n",
    "        <ul class=\"level2\">            \n",
    "            <li>OpenMP: &geq; version 4.5, allows offloading to GPU targets (for AMD, a recent gcc or clang is \n",
    "                required)</li>\n",
    "            <li>OpenACC: similar to OpenMP. Traditionally NVIDIA focused but recently got\n",
    "                capabilities to offload to AMD</li>\n",
    "            <li>Intel OneAPI</li>\n",
    "            <li>ArrayFire: optimized functions and data-structures to exploit parallelism on both GPUs and \n",
    "                CPUs</li>\n",
    "        </ul></li>\n",
    "</ul>"
   ]
  },
  {
   "cell_type": "markdown",
   "metadata": {
    "slideshow": {
     "slide_type": "subslide"
    }
   },
   "source": [
    "<h2 class=\"slide\">Overview: Frameworks, Libraries, Toolboxes for GPU Programming</h2>\n",
    "<ul class=\"level1\">\n",
    "    <li>Low-Level Programming Frameworks\n",
    "        <ul class=\"level2\">\n",
    "            <li>ROCm: collection of libraries and tools to target AMD GPUs, provides an \n",
    "                <span style=\"color: maroon;\">OpenCL</span> backend</li>            \n",
    "            <li>HIP: abstract language to write GPU programs by AMD (open-source), allows \"automated\" translation \n",
    "                of <span style=\"color: blue;\">CUDA</span> programs into HIP</li>\n",
    "            <li>SyCL: \"modernized\" abstraction on-top of <span style=\"color: maroon;\">OpenCL</span>, uses \n",
    "                <span style=\"color: #5500d4;\">SPIR</span></li>\n",
    "            <li>clang + <span style=\"color: #5500d4;\">SPIR-V</span>: \n",
    "                compile code fragments to a intermediate format consumable by modern \n",
    "                <span style=\"color: maroon;\">OpenCL</span> implementations</li>\n",
    "            <li>clang + <span style=\"color: #5500d4;\">PTX</span>: \n",
    "                compile code fragments to an intermediate format consumable by \n",
    "                <span style=\"color: blue;\">CUDA</span> (NVRTC)</li>\n",
    "            <li>....</li>\n",
    "            <li><span style=\"color: blue;\">CUDA</span> C99/C++1x based framework for NVIDIA GPUs (some parts are \n",
    "                open-source, drivers etc. are proprietary)</li>\n",
    "            <li><span style=\"color: maroon;\">OpenCL</span>: Vendor neutral computing language, allows to target \n",
    "                CPUs, GPUs, FPGAs, Signal Processors</li>\n",
    "        </ul></li></ul>\n",
    "            "
   ]
  },
  {
   "cell_type": "markdown",
   "metadata": {
    "slideshow": {
     "slide_type": "fragment"
    }
   },
   "source": [
    "<ul class=\"level1\">\n",
    "    <li>Code-Transformation tools and intermediate code representations play an increasingly central role\n",
    "        <ul class=\"level2\">\n",
    "            <li><span style=\"color: #5500d4;\">PTX</span>: Parallel Thread Execution language, used by NVIDIA for \n",
    "                CUDA</li> \n",
    "            <li><span style=\"color: #5500d4;\">SPIR, SPIR-V</span>: Standard Portable Intermediate Representation, \n",
    "                cross-platform open standard maintained by the Khronos Group; Central in newer graphic standards \n",
    "                and newer iterations of OpenCL</li>\n",
    "        </ul></li></ul>"
   ]
  },
  {
   "cell_type": "markdown",
   "metadata": {
    "slideshow": {
     "slide_type": "slide"
    }
   },
   "source": [
    "<h2 class=\"slide\">Comparison: OpenCL versus CUDA</h2>\n",
    "<div class=\"multi_cols\">\n",
    "    <div style=\"width: 50%; float: left;\">\n",
    "        <ul class=\"level1\">\n",
    "            <li><span style=\"color: maroon;\">OpenCL</span>\n",
    "            <ul class=\"level2\">\n",
    "            <li>Hardware Neutral: GPUs, CPUs, FPGAs, Signal Processors</li>\n",
    "            <li>Common software stack standardized by Khronos Group + vendor specific implementations</li>\n",
    "            <li>Programs should work across implementations → \"Programming to the least common denominator\"</li>\n",
    "            <li>OpenCL 1.2: Still most commonly used, C99 kernel language, limited set of features, but works \n",
    "                virtually everywhere (incl. NVIDIA GPUs)</li>\n",
    "            <li>OpenCL 2.x: some support from AMD and Intel</li>\n",
    "            <li>OpenCL 3.0: recently specified, attempts to move forward by making requirements more modular</li> \n",
    "        </ul></li>\n",
    "        </ul>\n",
    "    </div>\n",
    "    <div style=\"margin-left: 50%;\"> \n",
    "        <ul class=\"level1\">\n",
    "            <li><span style=\"color: blue;\">CUDA</span>\n",
    "            <ul class=\"level2\">\n",
    "                <li>Hardware: Only NVIDIA GPUs, no CPU / emulator available</li>\n",
    "                <li>Software implementation only available from NVIDIA, includes libraries, debuggers, profilers, \n",
    "                    memory checkcers, etc.</li>\n",
    "                <li>Software and hardware tightly integrated (versioning, \"compute capabilites\")</li>\n",
    "                <li>Version 10.x allowing both C99 and C++11/14 kernel language</li>\n",
    "            </ul></li>\n",
    "        </ul>\n",
    "    </div>\n",
    " </div>    \n",
    "    "
   ]
  },
  {
   "cell_type": "markdown",
   "metadata": {
    "slideshow": {
     "slide_type": "fragment"
    }
   },
   "source": [
    "<div class=\"multi_cols\">\n",
    "    <div style=\"width: 50%; float: left;\">\n",
    "        <ul class=\"level1\">\n",
    "            <li><b>Primarily</b>: Run-time compilation of the kernels</li>\n",
    "            <li>Kernel code has to be available at run time, compile for selected device at run-time</li>\n",
    "            <li>Single-file compilation similar to the default in CUDA available (SyCL)</li>\n",
    "        </ul>\n",
    "    </div>\n",
    "    <div style=\"margin-left: 50%;\"> \n",
    "        <ul class=\"level1\">\n",
    "            <li><b>Primarily</b>: Single-file compilation. The system compiler is \"replaced\" by CUDA provided \n",
    "                nvcc compiler</li>\n",
    "            <li>This requires binary compability between system compiler, system libraries, graphic stacks and \n",
    "                drivers</li>            \n",
    "            <li>Run-time compilation approach simliar to the default with OpenCL is available (NVRTC)</li>\n",
    "        </ul>\n",
    "    </div>\n",
    "</div>"
   ]
  },
  {
   "cell_type": "markdown",
   "metadata": {
    "slideshow": {
     "slide_type": "slide"
    }
   },
   "source": [
    "<h2 class=\"slide\">CUDA and OpenCL: Different But Similar - Grid</h2>\n",
    "<ul class=\"level1\">\n",
    "    <li>Threads are organized in two layers resembling a 3D grid</li>\n",
    "    <li>Simpler use-cases only requiring 1D or 2D topologies are mapped on the 3D structure</li>\n",
    "</ul>\n",
    "<img src=\"images/opencl_cuda_grid.png\" width=\"67%\" />\n"
   ]
  },
  {
   "cell_type": "markdown",
   "metadata": {
    "slideshow": {
     "slide_type": "slide"
    }
   },
   "source": [
    "<h2 class=\"slide\">CUDA and OpenCL: Different But Similar - Memory Model</h2>\n",
    "<ul class=\"level1\">\n",
    "    <li>Hierarchical memory model with different \"regions\"</li>\n",
    "    <li>Visibility allows data exchange across individual threads / work-items but may require synchronization</li>\n",
    "    <li>On CUDA, closely linked to Hardware implementation</li>\n",
    "    <li>On OpenCL, guarantees about different memory regions are more difficult to give</li>\n",
    "</ul>\n",
    "<img src=\"images/opencl_cuda_memory_regions.png\" width=\"66%\" />\n"
   ]
  },
  {
   "cell_type": "markdown",
   "metadata": {
    "slideshow": {
     "slide_type": "slide"
    }
   },
   "source": [
    "<h2 class=\"slide\">Structure Of A Simple GPU Program</h2>\n",
    "<img src=\"images/anatomy_of_gpu_program_01.png\" width=\"60%\" />"
   ]
  },
  {
   "cell_type": "markdown",
   "metadata": {
    "slideshow": {
     "slide_type": "subslide"
    }
   },
   "source": [
    "<h2 class=\"slide\">Structure Of A Simple GPU Program</h2>\n",
    "<img src=\"images/anatomy_of_gpu_program_02.png\" width=\"60%\" />"
   ]
  },
  {
   "cell_type": "markdown",
   "metadata": {
    "slideshow": {
     "slide_type": "subslide"
    }
   },
   "source": [
    "<h2 class=\"slide\">Structure Of A Simple GPU Program</h2>\n",
    "<img src=\"images/anatomy_of_gpu_program_03.png\" width=\"60%\" />"
   ]
  },
  {
   "cell_type": "markdown",
   "metadata": {
    "slideshow": {
     "slide_type": "subslide"
    }
   },
   "source": [
    "<h2 class=\"slide\">Structure Of A Simple GPU Program</h2>\n",
    "<img src=\"images/anatomy_of_gpu_program_04.png\" width=\"60%\" />"
   ]
  },
  {
   "cell_type": "markdown",
   "metadata": {
    "slideshow": {
     "slide_type": "subslide"
    }
   },
   "source": [
    "<h2 class=\"slide\">Structure Of A Simple GPU Program</h2>\n",
    "<img src=\"images/anatomy_of_gpu_program_05.png\" width=\"60%\" />"
   ]
  },
  {
   "cell_type": "markdown",
   "metadata": {
    "slideshow": {
     "slide_type": "subslide"
    }
   },
   "source": [
    "<h2 class=\"slide\">Structure Of A Simple GPU Program</h2>\n",
    "<img src=\"images/anatomy_of_gpu_program_06.png\" width=\"60%\" />"
   ]
  },
  {
   "cell_type": "markdown",
   "metadata": {
    "slideshow": {
     "slide_type": "subslide"
    }
   },
   "source": [
    "<h2 class=\"slide\">Structure Of A Simple GPU Program</h2>\n",
    "<img src=\"images/anatomy_of_gpu_program_07.png\" width=\"60%\" />"
   ]
  },
  {
   "cell_type": "markdown",
   "metadata": {
    "slideshow": {
     "slide_type": "slide"
    }
   },
   "source": [
    "<h2 class=\"slide\">Example: Vector Addtion on the GPU using PyCuda</h2>\n",
    "<p class=\"content\">\n",
    "    Cf. <a href=\"https://github.com/inducer/pycuda\">https://github.com/inducer/pycuda</a> and \n",
    "    <a href=\"https://documen.tician.de/pycuda/\">https://documen.tician.de/pycuda/</a> for reference\n",
    "</p>"
   ]
  },
  {
   "cell_type": "code",
   "execution_count": 3,
   "metadata": {
    "slideshow": {
     "slide_type": "fragment"
    }
   },
   "outputs": [],
   "source": [
    "# Again, a NVIDIA GPU is required for this example to work!\n",
    "import pycuda.autoinit\n",
    "import pycuda.driver as cuda\n",
    "import numpy as np\n",
    "from pycuda.compiler import SourceModule\n",
    "\n",
    "# First, we prepare the program that should be applied to our data, i.e. the \"Kernel\"\n",
    "vec_add_program = SourceModule( \n",
    "\"\"\"\n",
    "__global__ void sum_kernel( double* __restrict__ z, \n",
    "                            double const* __restrict__ x, \n",
    "                            double const* __restrict__ y, int const N )\n",
    "{\n",
    "    const int threads_per_block = blockDim.x; /* Assuming 1D grid */\n",
    "    const int ii = threadIdx.x + blockIdx.x * threads_per_block; /* Assuming 1D grid */    \n",
    "    if( ii < N ) \n",
    "    {\n",
    "        z[ ii ] = x[ ii ] + y[ ii ];\n",
    "    }\n",
    "}\n",
    "\"\"\")\n",
    "\n",
    "# Note: even though we are using CUDA, we are able to specify the kernel at run-time ->\n",
    "# PyCuda uses the NVRTC implementation!\n",
    "\n",
    "vec_add_kernel = vec_add_program.get_function( \"sum_kernel\" ) "
   ]
  },
  {
   "cell_type": "code",
   "execution_count": 4,
   "metadata": {
    "slideshow": {
     "slide_type": "subslide"
    }
   },
   "outputs": [],
   "source": [
    "# then, we prepare the structures on the host side, allocate the\n",
    "# required resources on the device side and move things \n",
    "\n",
    "N = 10000000 # Again, 10^7 elements to the vector\n",
    "\n",
    "x_host = np.random.randn( N ) # prepare the elements on the host\n",
    "y_host = np.random.randn( N )\n",
    "\n",
    "# allocate the structures on the device\n",
    "x = cuda.mem_alloc( x_host.nbytes )\n",
    "y = cuda.mem_alloc( y_host.nbytes )\n",
    "z = cuda.mem_alloc( max( x_host.nbytes, y_host.nbytes ) )\n",
    "\n",
    "#transfer the memory from the host to the device; htod ... host to device\n",
    "cuda.memcpy_htod( x, x_host )\n",
    "cuda.memcpy_htod( y, y_host ) "
   ]
  },
  {
   "cell_type": "code",
   "execution_count": 5,
   "metadata": {
    "slideshow": {
     "slide_type": "subslide"
    }
   },
   "outputs": [
    {
     "name": "stdout",
     "output_type": "stream",
     "text": [
      "calculation on host and device yield same result: True\n"
     ]
    }
   ],
   "source": [
    "# find the grid dimensions:\n",
    "threads_per_block = 128 # This is a pessimistic but educated guess :-)\n",
    "num_blocks = N // threads_per_block\n",
    "if N % threads_per_block != 0:\n",
    "    num_blocks += 1\n",
    "\n",
    "# run the kernel\n",
    "N_arg = np.int32(N) # pycuda enforces strict type checking\n",
    "vec_add_kernel( z, x, y, np.int32(N), block=(threads_per_block, 1, 1), grid=(num_blocks,1))\n",
    "\n",
    "# copy the result back to the host; dtoh ... device to host\n",
    "z_host = np.empty_like( x_host )\n",
    "cuda.memcpy_dtoh( z_host, z )\n",
    "\n",
    "\n",
    "# Compare result to calculation on CPU\n",
    "print( f\"calculation on host and device yield same result: {np.allclose( z_host, x_host + y_host, rtol=0.0, atol=1e-16)}\" ) \n",
    "\n",
    "del x, y, z, x_host, y_host, z_host"
   ]
  },
  {
   "cell_type": "markdown",
   "metadata": {
    "slideshow": {
     "slide_type": "slide"
    }
   },
   "source": [
    "<h2 class=\"slide\">Example: Vector Addtion on the GPU using PyOpenCL</h2>\n",
    "<p class=\"content\">\n",
    "    Cf. <a href=\"https://github.com/inducer/pycuda\">https://github.com/inducer/pyopencl</a> and \n",
    "    <a href=\"https://documen.tician.de/pyopencl/\">https://https://documen.tician.de/pyopencl/</a> for reference\n",
    "</p>"
   ]
  },
  {
   "cell_type": "code",
   "execution_count": 6,
   "metadata": {
    "slideshow": {
     "slide_type": "fragment"
    }
   },
   "outputs": [
    {
     "name": "stdout",
     "output_type": "stream",
     "text": [
      "<pyopencl.Platform 'AMD Accelerated Parallel Processing' at 0x7fc00450a250>\n",
      "<pyopencl.Platform 'NVIDIA CUDA' at 0x3d31de0>\n",
      "<pyopencl.Platform 'Portable Computing Language' at 0x7fc00dece020>\n"
     ]
    }
   ],
   "source": [
    "import pyopencl as cl\n",
    "import numpy as np\n",
    "\n",
    "# setup the OpenCL environment - it's a bit more elaborated as with PyCuda:\n",
    "# Shortcut: ctx = cl.create_some_context() -> create a context with the first available device\n",
    "\n",
    "platforms = cl.get_platforms()\n",
    "for p in platforms:\n",
    "    print( p )"
   ]
  },
  {
   "cell_type": "code",
   "execution_count": 9,
   "metadata": {
    "slideshow": {
     "slide_type": "fragment"
    }
   },
   "outputs": [
    {
     "name": "stdout",
     "output_type": "stream",
     "text": [
      "<pyopencl.Device 'gfx900' on 'AMD Accelerated Parallel Processing' at 0x33ec260>\n"
     ]
    }
   ],
   "source": [
    "platform = platforms[ 0 ] # Let's select the first one\n",
    "\n",
    "# get a list of all available devices for a platform\n",
    "devices = platform.get_devices()\n",
    "\n",
    "for d in devices:\n",
    "    print( d )"
   ]
  },
  {
   "cell_type": "code",
   "execution_count": 10,
   "metadata": {
    "slideshow": {
     "slide_type": "fragment"
    }
   },
   "outputs": [],
   "source": [
    "# Again, let's select the first device\n",
    "device = devices[ 0 ]\n",
    "\n",
    "# create a context and a queue\n",
    "ctx = cl.Context( [device,] )\n",
    "queue = cl.CommandQueue( ctx )"
   ]
  },
  {
   "cell_type": "code",
   "execution_count": 11,
   "metadata": {
    "slideshow": {
     "slide_type": "subslide"
    }
   },
   "outputs": [],
   "source": [
    "# prepare the program containing the kernel:\n",
    "vec_add_program = cl.Program( ctx, \"\"\"\n",
    "__kernel void sum_kernel( __global double* restrict z,\n",
    "                          __global double const* restrict x,\n",
    "                          __global double const* restrict y, int const N )\n",
    "{\n",
    "    int const ii = ( int )get_global_id( 0 ); /* Assume 1D Grid, 0 .. 0th element of ndrange */\n",
    "    if( ii < N )\n",
    "    {\n",
    "        z[ ii ] = x[ ii ] + y[ ii ];\n",
    "    }\n",
    "}\n",
    "                          \n",
    "\"\"\" )\n",
    "\n",
    "# Compile the program containing the kernel\n",
    "vec_add_program.build()\n",
    "\n",
    "# get kernel function from vec_add_program\n",
    "vec_add_kernel = vec_add_program.sum_kernel"
   ]
  },
  {
   "cell_type": "code",
   "execution_count": 12,
   "metadata": {
    "slideshow": {
     "slide_type": "subslide"
    }
   },
   "outputs": [
    {
     "data": {
      "text/plain": [
       "<pyopencl._cl.NannyEvent at 0x7fc08f85b090>"
      ]
     },
     "execution_count": 12,
     "metadata": {},
     "output_type": "execute_result"
    }
   ],
   "source": [
    "# then, we prepare the structures on the host side, allocate the\n",
    "# required resources on the device side and move things \n",
    "N = 10000000 # Again, 10^7 elements to the vector\n",
    "\n",
    "# create the structures on the host \n",
    "x_host = np.random.rand( N )\n",
    "y_host = np.random.rand( N )\n",
    "\n",
    "\n",
    "# allocate the structures on the device\n",
    "x = cl.Buffer( ctx, cl.mem_flags.READ_ONLY, x_host.nbytes )\n",
    "y = cl.Buffer( ctx, cl.mem_flags.READ_ONLY, y_host.nbytes )\n",
    "z = cl.Buffer( ctx, cl.mem_flags.WRITE_ONLY, max( x_host.nbytes, y_host.nbytes ) )\n",
    "\n",
    "#transfer the memory from the host to the device\n",
    "cl.enqueue_copy( queue, x, x_host )\n",
    "cl.enqueue_copy( queue, y, y_host )\n"
   ]
  },
  {
   "cell_type": "code",
   "execution_count": 13,
   "metadata": {
    "slideshow": {
     "slide_type": "subslide"
    }
   },
   "outputs": [
    {
     "data": {
      "text/plain": [
       "<pyopencl._cl.NannyEvent at 0x7fc08f852360>"
      ]
     },
     "execution_count": 13,
     "metadata": {},
     "output_type": "execute_result"
    }
   ],
   "source": [
    "# find the grid dimensions:\n",
    "num_work_items = x_host.shape\n",
    "workgroup_size = None # let the OpenCL impl find the optimal workgroup size\n",
    "\n",
    "# run the kernel\n",
    "Narg = np.int32(N) # like with OpenCL\n",
    "vec_add_kernel( queue, num_work_items, workgroup_size, z, x, y, Narg )\n",
    "\n",
    "# copy the result back to the host\n",
    "z_host = np.empty_like( x_host )\n",
    "cl.enqueue_copy( queue, z_host, z )"
   ]
  },
  {
   "cell_type": "code",
   "execution_count": 14,
   "metadata": {
    "slideshow": {
     "slide_type": "fragment"
    }
   },
   "outputs": [
    {
     "name": "stdout",
     "output_type": "stream",
     "text": [
      "calculation on host and device yield same result: True\n"
     ]
    }
   ],
   "source": [
    "# Compare result to calculation on CPU\n",
    "print( f\"calculation on host and device yield same result: {np.allclose( z_host, x_host + y_host, rtol=0.0, atol=1e-16)}\" )\n",
    "\n",
    "del x, y, z, x_host, y_host, z_host"
   ]
  },
  {
   "cell_type": "markdown",
   "metadata": {
    "slideshow": {
     "slide_type": "slide"
    }
   },
   "source": [
    "<h2 class=\"slide\">Performance Analysis: Scaling</h2>\n",
    "<ul class=\"level1\">\n",
    "    <li>Program with a total run-time $T$</li>\n",
    "    <li>Assumption: problem size is <b>constant</b> (e.g. add vectors of size $N$, track $N$ particles, etc.)</li>\n",
    "    <li>Question: how much can we speed up the execution of the problem if we parallelise it, i.e. \n",
    "        the speed-up $\\eta_s( n_p )$</li>\n",
    "</ul>"
   ]
  },
  {
   "cell_type": "markdown",
   "metadata": {
    "slideshow": {
     "slide_type": "fragment"
    }
   },
   "source": [
    "<ul class=\"level1\">\n",
    "    <li>$T = t_p + t_s$</li>\n",
    "    <li>$t_p$: fraction of run-time that can be run in \"parallel\" on $n_p$ \"processors\"</li>\n",
    "    <li>$t_s$: fraction of run-time that is sequential</li>\n",
    "    <li>Amdahls law:\n",
    "        $$\\eta_s( n_p ) = \\frac{T}{t_s + \\frac{t_p}{n_p}}$$</li>\n",
    "</ul>"
   ]
  },
  {
   "cell_type": "markdown",
   "metadata": {
    "slideshow": {
     "slide_type": "slide"
    }
   },
   "source": [
    "<h2 class=\"slide\">Performance Analysis: Scaling</h2>"
   ]
  },
  {
   "cell_type": "code",
   "execution_count": 16,
   "metadata": {
    "slideshow": {
     "slide_type": "fragment"
    }
   },
   "outputs": [
    {
     "data": {
      "image/png": "[encoded data removed]",
      "text/plain": [
       "<Figure size 1080x720 with 1 Axes>"
      ]
     },
     "metadata": {
      "needs_background": "light"
     },
     "output_type": "display_data"
    }
   ],
   "source": [
    "from helpers import plot_amdahl_scaling\n",
    "plot_amdahl_scaling( 1.0, 128.0 )"
   ]
  },
  {
   "cell_type": "markdown",
   "metadata": {
    "slideshow": {
     "slide_type": "slide"
    }
   },
   "source": [
    "<h2 class=\"slide\">Performance Analysis: Conclusions from Amdahl's Law</h2>\n",
    "<ul class=\"level1\">\n",
    "    <li>For a given problem with finite $t_s$, increases in performance are diminishing with rising $n_p$</li> \n",
    "    <li>Controling and limiting $t_s$ is crucial to achieve good parallel performance and speedup</li>\n",
    "    <li>We assume that $t_s = const.$ for a given problem size. In practice, $t_s = f(n_p)$</li>\n",
    "    <li>Even with $t_s$ very small, scaling to $10^3$ or even $10^4$ of parallel processes (as in GPUs) under the \n",
    "        assumptions of Amdahl is hard</li>\n",
    "</ul>"
   ]
  },
  {
   "cell_type": "markdown",
   "metadata": {
    "slideshow": {
     "slide_type": "slide"
    }
   },
   "source": [
    "<h2 class=\"slide\">Scaled Speedup, Gustafson-Barsis Law</h2>\n",
    "<ul class=\"level1\">\n",
    "    <li>Amdahl's Law is a bit pessimistic $\\longleftarrow$ fixed problem size regardless of $n_p$</li>\n",
    "    <li>What if we can <b>grow</b> the problem size together with rising number $n_p$?</li>\n",
    "    <li>Scaled Speedup: $$\\eta(n_p) = f_s + n_p \\cdot f_p$$</li>\n",
    "    <li>$f_s = t_s / T$, fraction of the runtime that is serial</li>\n",
    "    <li>$f_p = t_p / T$, fraction of the runtime that can be run in parallel on $n_p$ processors.</li>\n",
    "    <li>It holds that $f_s + f_p = 1$</li>\n",
    "</ul>"
   ]
  },
  {
   "cell_type": "code",
   "execution_count": 18,
   "metadata": {
    "slideshow": {
     "slide_type": "subslide"
    }
   },
   "outputs": [
    {
     "data": {
      "image/png": "[encoded data removed]",
      "text/plain": [
       "<Figure size 1080x720 with 1 Axes>"
      ]
     },
     "metadata": {
      "needs_background": "light"
     },
     "output_type": "display_data"
    }
   ],
   "source": [
    "from helpers import plot_gustafson_scaling\n",
    "plot_gustafson_scaling( 1.0, 128.0 )"
   ]
  },
  {
   "cell_type": "markdown",
   "metadata": {
    "slideshow": {
     "slide_type": "slide"
    }
   },
   "source": [
    "<h2 class=\"slide\">Contributions to $t_s$ on GPUs</h2>\n",
    "<ul class=\"level1\">    \n",
    "    <li>Synchronization overhead between \"processes\" (threads) $\\longrightarrow$ Problems that do not require \n",
    "            communication between processes are more suitable to be parallelized (ideal: \"Embarrisingly Parallel \n",
    "            Problem\")</li>        \n",
    "        <li>Latencies and transfer times for copying memory between host and device</li>\n",
    "        <li>latencies in launching kernels</li>\n",
    "        <li>Latencies for accessing resources (different memory regions!)</li>\n",
    "        <li>During the runtime of the kernel: <b>thread divergence</b></li>    \n",
    "</ul>"
   ]
  },
  {
   "cell_type": "markdown",
   "metadata": {
    "slideshow": {
     "slide_type": "fragment"
    }
   },
   "source": [
    "<ul class=\"level1\">\n",
    "    <li>Thread divergence is a consequence of the SPMD model typically implemented on GPUs</li>\n",
    "    <li>Remember: Threads/work-items are organized in warps/wavefronts</li>\n",
    "    <li>AMD: $64$ work-items / wavefront</li>\n",
    "    <li>NVIDIA: $32$ threads/workitems / warp</li>\n",
    "    <li>The GPU always executes a multiple of these numbers, even if you only ask to compute $1$ work-items \n",
    "                / threads</li>\n",
    "    <li>All threads execute the <b>same program</b> in lock-step</li>\n",
    "    <li>Dataparallelism: If the program branches depending on the data, code-paths have to be handled \n",
    "                sequentially, thus increasing the $t_s$!</li>\n",
    "</ul>"
   ]
  },
  {
   "cell_type": "markdown",
   "metadata": {
    "slideshow": {
     "slide_type": "slide"
    }
   },
   "source": [
    "<h2 class=\"slide\">Example: Thread Divergence And Branching</h2>\n",
    "<img src=\"images/thread_divergence_example2_01.png\" alt=\"thread divergence example 2\" />"
   ]
  },
  {
   "cell_type": "markdown",
   "metadata": {
    "slideshow": {
     "slide_type": "subslide"
    }
   },
   "source": [
    "<h2 class=\"slide\">Example: Thread Divergence And Branching</h2>\n",
    "<img src=\"images/thread_divergence_example2_02.png\" alt=\"thread divergence example 2\" />"
   ]
  },
  {
   "cell_type": "markdown",
   "metadata": {
    "slideshow": {
     "slide_type": "subslide"
    }
   },
   "source": [
    "<h2 class=\"slide\">Example: Thread Divergence And Branching</h2>\n",
    "<img src=\"images/thread_divergence_example2_03.png\" alt=\"thread divergence example 2\" />"
   ]
  },
  {
   "cell_type": "markdown",
   "metadata": {
    "slideshow": {
     "slide_type": "subslide"
    }
   },
   "source": [
    "<h2 class=\"slide\">Example: Thread Divergence And Branching</h2>\n",
    "<img src=\"images/thread_divergence_example2_04.png\" alt=\"thread divergence example 2\" />"
   ]
  },
  {
   "cell_type": "markdown",
   "metadata": {
    "slideshow": {
     "slide_type": "subslide"
    }
   },
   "source": [
    "<h2 class=\"slide\">Example: Thread Divergence And Branching</h2>\n",
    "<img src=\"images/thread_divergence_example2_05.png\" alt=\"thread divergence example 2\" />"
   ]
  },
  {
   "cell_type": "markdown",
   "metadata": {
    "slideshow": {
     "slide_type": "slide"
    }
   },
   "source": [
    "<h2 class=\"slide\">Example: Alternative, Branchless Formulation of Kernel</h2>\n",
    "<img src=\"images/thread_divergence_example2_better.png\" alt=\"thread divergence example 2\" />"
   ]
  },
  {
   "cell_type": "markdown",
   "metadata": {
    "slideshow": {
     "slide_type": "slide"
    }
   },
   "source": [
    "<h2 class=\"slide\">Summary &amp; Conclusions</h2>\n",
    "<ul class=\"level1\">\n",
    "    <li>GPUs offer a large number of threads and significant floating-point computing power</li>\n",
    "    <li>There are many options to get started with GPU programming without starting to go fully towards low-level \n",
    "        programming</li>    \n",
    "    <li>The two current main frameworks, OpenCL and CUDA, differ in scope and implementation but are similar enough \n",
    "        that a common implementation of Kernels is possible</li>\n",
    "    <li> Controlling and Limiting the sequential run-time component is crucial to achieve good scaling and \n",
    "            parallel performance</li>\n",
    "    <li> Thread Divergence can be a key contributor to the sequential runtime-portion</li>\n",
    "    <li> Not covered: optimal grid dimensions and hardware utilization</li>\n",
    "</ul>"
   ]
  },
  {
   "cell_type": "markdown",
   "metadata": {
    "slideshow": {
     "slide_type": "slide"
    }
   },
   "source": [
    "<div id=\"title_slide\">\n",
    "<h1 class=title_page>Thank You For Your Attention!</h1>    \n",
    "</div>"
   ]
  }
 ],
 "metadata": {
  "celltoolbar": "Slideshow",
  "kernelspec": {
   "display_name": "Python 3",
   "language": "python",
   "name": "python3"
  },
  "language_info": {
   "codemirror_mode": {
    "name": "ipython",
    "version": 3
   },
   "file_extension": ".py",
   "mimetype": "text/x-python",
   "name": "python",
   "nbconvert_exporter": "python",
   "pygments_lexer": "ipython3",
   "version": "3.8.0"
  }
 },
 "nbformat": 4,
 "nbformat_minor": 4
}
